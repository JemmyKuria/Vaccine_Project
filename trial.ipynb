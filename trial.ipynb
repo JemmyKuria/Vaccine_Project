{
 "cells": [
  {
   "cell_type": "markdown",
   "id": "09e66c92",
   "metadata": {},
   "source": [
    "![Vaccine](Images/Vaccine.png)"
   ]
  },
  {
   "cell_type": "code",
   "execution_count": 1,
   "id": "ff794635-d5fa-40bf-a8a9-8ec8dc9b9a2a",
   "metadata": {},
   "outputs": [],
   "source": [
    "#importing necessary libraries\n",
    "import pandas as pd\n",
    "import seaborn as sns\n",
    "import matplotlib.pyplot as plt"
   ]
  },
  {
   "cell_type": "code",
   "execution_count": 2,
   "id": "3c6148a4-aa75-4523-a4ad-8027157b790b",
   "metadata": {},
   "outputs": [
    {
     "name": "stdout",
     "output_type": "stream",
     "text": [
      "Shape of the data after merging:\n",
      " (26707, 38)\n",
      "<class 'pandas.core.frame.DataFrame'>\n",
      "Int64Index: 26707 entries, 0 to 26706\n",
      "Data columns (total 38 columns):\n",
      " #   Column                       Non-Null Count  Dtype  \n",
      "---  ------                       --------------  -----  \n",
      " 0   respondent_id                26707 non-null  int64  \n",
      " 1   h1n1_concern                 26615 non-null  float64\n",
      " 2   h1n1_knowledge               26591 non-null  float64\n",
      " 3   behavioral_antiviral_meds    26636 non-null  float64\n",
      " 4   behavioral_avoidance         26499 non-null  float64\n",
      " 5   behavioral_face_mask         26688 non-null  float64\n",
      " 6   behavioral_wash_hands        26665 non-null  float64\n",
      " 7   behavioral_large_gatherings  26620 non-null  float64\n",
      " 8   behavioral_outside_home      26625 non-null  float64\n",
      " 9   behavioral_touch_face        26579 non-null  float64\n",
      " 10  doctor_recc_h1n1             24547 non-null  float64\n",
      " 11  doctor_recc_seasonal         24547 non-null  float64\n",
      " 12  chronic_med_condition        25736 non-null  float64\n",
      " 13  child_under_6_months         25887 non-null  float64\n",
      " 14  health_worker                25903 non-null  float64\n",
      " 15  health_insurance             14433 non-null  float64\n",
      " 16  opinion_h1n1_vacc_effective  26316 non-null  float64\n",
      " 17  opinion_h1n1_risk            26319 non-null  float64\n",
      " 18  opinion_h1n1_sick_from_vacc  26312 non-null  float64\n",
      " 19  opinion_seas_vacc_effective  26245 non-null  float64\n",
      " 20  opinion_seas_risk            26193 non-null  float64\n",
      " 21  opinion_seas_sick_from_vacc  26170 non-null  float64\n",
      " 22  age_group                    26707 non-null  object \n",
      " 23  education                    25300 non-null  object \n",
      " 24  race                         26707 non-null  object \n",
      " 25  sex                          26707 non-null  object \n",
      " 26  income_poverty               22284 non-null  object \n",
      " 27  marital_status               25299 non-null  object \n",
      " 28  rent_or_own                  24665 non-null  object \n",
      " 29  employment_status            25244 non-null  object \n",
      " 30  hhs_geo_region               26707 non-null  object \n",
      " 31  census_msa                   26707 non-null  object \n",
      " 32  household_adults             26458 non-null  float64\n",
      " 33  household_children           26458 non-null  float64\n",
      " 34  employment_industry          13377 non-null  object \n",
      " 35  employment_occupation        13237 non-null  object \n",
      " 36  h1n1_vaccine                 26707 non-null  int64  \n",
      " 37  seasonal_vaccine             26707 non-null  int64  \n",
      "dtypes: float64(23), int64(3), object(12)\n",
      "memory usage: 7.9+ MB\n",
      "\n",
      "\n",
      " Data info:\n",
      " None\n",
      "\n",
      " Missing values:\n",
      " h1n1_concern                      92\n",
      "h1n1_knowledge                   116\n",
      "behavioral_antiviral_meds         71\n",
      "behavioral_avoidance             208\n",
      "behavioral_face_mask              19\n",
      "behavioral_wash_hands             42\n",
      "behavioral_large_gatherings       87\n",
      "behavioral_outside_home           82\n",
      "behavioral_touch_face            128\n",
      "doctor_recc_h1n1                2160\n",
      "doctor_recc_seasonal            2160\n",
      "chronic_med_condition            971\n",
      "child_under_6_months             820\n",
      "health_worker                    804\n",
      "health_insurance               12274\n",
      "opinion_h1n1_vacc_effective      391\n",
      "opinion_h1n1_risk                388\n",
      "opinion_h1n1_sick_from_vacc      395\n",
      "opinion_seas_vacc_effective      462\n",
      "opinion_seas_risk                514\n",
      "opinion_seas_sick_from_vacc      537\n",
      "education                       1407\n",
      "income_poverty                  4423\n",
      "marital_status                  1408\n",
      "rent_or_own                     2042\n",
      "employment_status               1463\n",
      "household_adults                 249\n",
      "household_children               249\n",
      "employment_industry            13330\n",
      "employment_occupation          13470\n",
      "dtype: int64\n"
     ]
    }
   ],
   "source": [
    "features=pd.read_csv(\"data/training_set_features.csv\")\n",
    "labels=pd.read_csv(\"data/training_set_labels.csv\")\n",
    "\n",
    "#Merging the train features and labels\n",
    "data=features.merge(labels, on=\"respondent_id\")\n",
    "\n",
    "#Shape of the data after merging\n",
    "print(\"Shape of the data after merging:\\n\", data.shape)\n",
    "\n",
    "# Data info\n",
    "print(\"\\n\\n Data info:\\n\", data.info())\n",
    "\n",
    "# Check for null values\n",
    "missing_summary = data.isnull().sum()\n",
    "print(\"\\n Missing values:\\n\", missing_summary[missing_summary > 0])"
   ]
  },
  {
   "cell_type": "code",
   "execution_count": 3,
   "id": "59ba6bf5-a4f3-41ee-935a-575a8cfac849",
   "metadata": {},
   "outputs": [
    {
     "name": "stdout",
     "output_type": "stream",
     "text": [
      "Index(['respondent_id', 'h1n1_concern', 'h1n1_knowledge',\n",
      "       'behavioral_antiviral_meds', 'behavioral_avoidance',\n",
      "       'behavioral_face_mask', 'behavioral_wash_hands',\n",
      "       'behavioral_large_gatherings', 'behavioral_outside_home',\n",
      "       'behavioral_touch_face', 'doctor_recc_h1n1', 'doctor_recc_seasonal',\n",
      "       'chronic_med_condition', 'child_under_6_months', 'health_worker',\n",
      "       'health_insurance', 'opinion_h1n1_vacc_effective', 'opinion_h1n1_risk',\n",
      "       'opinion_h1n1_sick_from_vacc', 'opinion_seas_vacc_effective',\n",
      "       'opinion_seas_risk', 'opinion_seas_sick_from_vacc', 'age_group',\n",
      "       'education', 'race', 'sex', 'income_poverty', 'marital_status',\n",
      "       'rent_or_own', 'employment_status', 'hhs_geo_region', 'census_msa',\n",
      "       'household_adults', 'household_children', 'h1n1_vaccine',\n",
      "       'seasonal_vaccine'],\n",
      "      dtype='object')\n",
      "\n",
      " Numerical features:\n",
      "  ['respondent_id', 'h1n1_concern', 'h1n1_knowledge', 'behavioral_antiviral_meds', 'behavioral_avoidance', 'behavioral_face_mask', 'behavioral_wash_hands', 'behavioral_large_gatherings', 'behavioral_outside_home', 'behavioral_touch_face', 'doctor_recc_h1n1', 'doctor_recc_seasonal', 'chronic_med_condition', 'child_under_6_months', 'health_worker', 'opinion_h1n1_vacc_effective', 'opinion_h1n1_risk', 'opinion_h1n1_sick_from_vacc', 'opinion_seas_vacc_effective', 'opinion_seas_risk', 'opinion_seas_sick_from_vacc', 'household_adults', 'household_children', 'h1n1_vaccine', 'seasonal_vaccine']\n",
      "\n",
      " Categorical features:\n",
      " ['health_insurance', 'age_group', 'education', 'race', 'sex', 'income_poverty', 'marital_status', 'rent_or_own', 'employment_status', 'hhs_geo_region', 'census_msa']\n",
      "<class 'pandas.core.frame.DataFrame'>\n",
      "Int64Index: 26707 entries, 0 to 26706\n",
      "Data columns (total 34 columns):\n",
      " #   Column                       Non-Null Count  Dtype  \n",
      "---  ------                       --------------  -----  \n",
      " 0   respondent_id                26707 non-null  int64  \n",
      " 1   h1n1_concern                 26707 non-null  float64\n",
      " 2   h1n1_knowledge               26707 non-null  float64\n",
      " 3   behavioral_antiviral_meds    26707 non-null  float64\n",
      " 4   behavioral_avoidance         26707 non-null  float64\n",
      " 5   behavioral_face_mask         26707 non-null  float64\n",
      " 6   behavioral_wash_hands        26707 non-null  float64\n",
      " 7   behavioral_large_gatherings  26707 non-null  float64\n",
      " 8   behavioral_outside_home      26707 non-null  float64\n",
      " 9   behavioral_touch_face        26707 non-null  float64\n",
      " 10  doctor_recc_h1n1             26707 non-null  float64\n",
      " 11  doctor_recc_seasonal         26707 non-null  float64\n",
      " 12  chronic_med_condition        26707 non-null  float64\n",
      " 13  child_under_6_months         26707 non-null  float64\n",
      " 14  health_worker                26707 non-null  float64\n",
      " 15  health_insurance             26707 non-null  object \n",
      " 16  opinion_h1n1_vacc_effective  26707 non-null  float64\n",
      " 17  opinion_h1n1_risk            26707 non-null  float64\n",
      " 18  opinion_h1n1_sick_from_vacc  26707 non-null  float64\n",
      " 19  opinion_seas_vacc_effective  26707 non-null  float64\n",
      " 20  opinion_seas_risk            26707 non-null  float64\n",
      " 21  opinion_seas_sick_from_vacc  26707 non-null  float64\n",
      " 22  age_group                    26707 non-null  object \n",
      " 23  education                    26707 non-null  object \n",
      " 24  race                         26707 non-null  object \n",
      " 25  sex                          26707 non-null  object \n",
      " 26  income_poverty               26707 non-null  object \n",
      " 27  marital_status               26707 non-null  object \n",
      " 28  rent_or_own                  26707 non-null  object \n",
      " 29  employment_status            26707 non-null  object \n",
      " 30  household_adults             26707 non-null  float64\n",
      " 31  household_children           26707 non-null  float64\n",
      " 32  h1n1_vaccine                 26707 non-null  int64  \n",
      " 33  seasonal_vaccine             26707 non-null  int64  \n",
      "dtypes: float64(22), int64(3), object(9)\n",
      "memory usage: 7.1+ MB\n"
     ]
    }
   ],
   "source": [
    "#HANDLING MISSING DATA\n",
    "\n",
    "# 1. Drop employment columns (50%+ missing)\n",
    "data = data.drop(['employment_industry', 'employment_occupation'], axis=1)\n",
    "print(data.columns)\n",
    "\n",
    "\n",
    "#2. Filling missing with NA (45.96% missing)\n",
    "data['health_insurance'] = data['health_insurance'].fillna('NA')\n",
    "\n",
    "# Separate numerical and categorical\n",
    "numerical_cols = data.select_dtypes(include=['int64', 'float64']).columns\n",
    "categorical_cols = data.select_dtypes(include=['object']).columns\n",
    "\n",
    "print(\"\\n Numerical features:\\n \", list(numerical_cols))\n",
    "print(\"\\n Categorical features:\\n\", list(categorical_cols))\n",
    "\n",
    "\n",
    "# 3. Filling numerical columns with median\n",
    "for col in numerical_cols:\n",
    "    if data[col].isnull().sum() > 0:\n",
    "        median_val = data[col].median()\n",
    "        data[col].fillna(median_val, inplace=True)\n",
    "\n",
    "#4. Filling categorical columns with mode\n",
    "for col in categorical_cols:\n",
    "    if data[col].isnull().sum() > 0:\n",
    "        mode_val = data[col].mode()[0]\n",
    "        data[col].fillna(mode_val, inplace=True)\n",
    "\n",
    "#Drop other unnecessary columns\n",
    "data.drop(columns=[\"hhs_geo_region\", \"census_msa\"],inplace=True)\n",
    "\n",
    "data.info()"
   ]
  },
  {
   "cell_type": "code",
   "execution_count": 4,
   "id": "54162ba6-227e-416b-8fe7-a61b7bed676e",
   "metadata": {},
   "outputs": [
    {
     "data": {
      "image/png": "[encoded data removed]",
      "text/plain": [
       "<Figure size 432x288 with 1 Axes>"
      ]
     },
     "metadata": {
      "needs_background": "light"
     },
     "output_type": "display_data"
    },
    {
     "data": {
      "image/png": "[encoded data removed]",
      "text/plain": [
       "<Figure size 432x288 with 1 Axes>"
      ]
     },
     "metadata": {
      "needs_background": "light"
     },
     "output_type": "display_data"
    },
    {
     "data": {
      "image/png": "[encoded data removed]",
      "text/plain": [
       "<Figure size 432x288 with 1 Axes>"
      ]
     },
     "metadata": {
      "needs_background": "light"
     },
     "output_type": "display_data"
    },
    {
     "data": {
      "image/png": "[encoded data removed]",
      "text/plain": [
       "<Figure size 432x288 with 1 Axes>"
      ]
     },
     "metadata": {
      "needs_background": "light"
     },
     "output_type": "display_data"
    },
    {
     "data": {
      "image/png": "[encoded data removed]",
      "text/plain": [
       "<Figure size 432x288 with 1 Axes>"
      ]
     },
     "metadata": {
      "needs_background": "light"
     },
     "output_type": "display_data"
    },
    {
     "data": {
      "image/png": "[encoded data removed]",
      "text/plain": [
       "<Figure size 432x288 with 1 Axes>"
      ]
     },
     "metadata": {
      "needs_background": "light"
     },
     "output_type": "display_data"
    }
   ],
   "source": [
    "# Quick loop to inspect how key features relate to H1N1 vaccine\n",
    "key_features = ['age_group', 'education', 'race', 'income_poverty',\n",
    "                'doctor_recc_h1n1', 'opinion_h1n1_vacc_effective']\n",
    "\n",
    "for feature in key_features:\n",
    "    sns.countplot(data=data, x=feature, hue=data['h1n1_vaccine'].astype(str))\n",
    "    plt.xticks(rotation=45)\n",
    "    plt.title(f\"H1N1 Vaccine Uptake by {feature}\")\n",
    "    plt.xlabel(feature)\n",
    "    plt.ylabel(\"Count\")\n",
    "    plt.legend(title=\"H1N1 Vaccine\")\n",
    "    plt.show()\n",
    "\n"
   ]
  },
  {
   "cell_type": "code",
   "execution_count": 5,
   "id": "dc363bb2-c7ff-4270-a179-8e0dc5673a0a",
   "metadata": {},
   "outputs": [
    {
     "data": {
      "image/png": "[encoded data removed]",
      "text/plain": [
       "<Figure size 432x288 with 1 Axes>"
      ]
     },
     "metadata": {
      "needs_background": "light"
     },
     "output_type": "display_data"
    },
    {
     "data": {
      "image/png": "[encoded data removed]",
      "text/plain": [
       "<Figure size 432x288 with 1 Axes>"
      ]
     },
     "metadata": {
      "needs_background": "light"
     },
     "output_type": "display_data"
    },
    {
     "data": {
      "image/png": "[encoded data removed]",
      "text/plain": [
       "<Figure size 432x288 with 1 Axes>"
      ]
     },
     "metadata": {
      "needs_background": "light"
     },
     "output_type": "display_data"
    },
    {
     "data": {
      "image/png": "[encoded data removed]",
      "text/plain": [
       "<Figure size 432x288 with 1 Axes>"
      ]
     },
     "metadata": {
      "needs_background": "light"
     },
     "output_type": "display_data"
    },
    {
     "data": {
      "image/png": "[encoded data removed]",
      "text/plain": [
       "<Figure size 432x288 with 1 Axes>"
      ]
     },
     "metadata": {
      "needs_background": "light"
     },
     "output_type": "display_data"
    },
    {
     "data": {
      "image/png": "[encoded data removed]",
      "text/plain": [
       "<Figure size 432x288 with 1 Axes>"
      ]
     },
     "metadata": {
      "needs_background": "light"
     },
     "output_type": "display_data"
    }
   ],
   "source": [
    "key_features = ['age_group', 'education', 'race', 'income_poverty',\n",
    "                'doctor_recc_h1n1', 'opinion_h1n1_vacc_effective']\n",
    "\n",
    "for feature in key_features:\n",
    "    sns.countplot(data=data, x=feature, hue='seasonal_vaccine')\n",
    "    plt.xticks(rotation=45)\n",
    "    plt.title(f\"Seasonal Vaccine Uptake by {feature}\")\n",
    "    plt.show()\n"
   ]
  },
  {
   "cell_type": "code",
   "execution_count": 6,
   "id": "29266b48-6fa1-4f31-98e0-737103367fd7",
   "metadata": {},
   "outputs": [
    {
     "data": {
      "image/png": "[encoded data removed]",
      "text/plain": [
       "<Figure size 864x360 with 2 Axes>"
      ]
     },
     "metadata": {
      "needs_background": "light"
     },
     "output_type": "display_data"
    }
   ],
   "source": [
    "import seaborn as sns\n",
    "import matplotlib.pyplot as plt\n",
    "\n",
    "fig, axes = plt.subplots(1, 2, figsize=(12, 5))\n",
    "sns.countplot(data=data, x='h1n1_vaccine', ax=axes[0])\n",
    "axes[0].set_title('H1N1 Vaccine Uptake')\n",
    "\n",
    "sns.countplot(data=data, x='seasonal_vaccine', ax=axes[1])\n",
    "axes[1].set_title('Seasonal Vaccine Uptake')\n",
    "\n",
    "plt.tight_layout()\n",
    "plt.show()\n"
   ]
  },
  {
   "cell_type": "code",
   "execution_count": 7,
   "id": "bce1f782-e5c6-478d-9b74-c5202089c295",
   "metadata": {},
   "outputs": [
    {
     "name": "stdout",
     "output_type": "stream",
     "text": [
      "<class 'pandas.core.frame.DataFrame'>\n",
      "Int64Index: 26707 entries, 0 to 26706\n",
      "Data columns (total 34 columns):\n",
      " #   Column                       Non-Null Count  Dtype  \n",
      "---  ------                       --------------  -----  \n",
      " 0   respondent_id                26707 non-null  int64  \n",
      " 1   h1n1_concern                 26707 non-null  float64\n",
      " 2   h1n1_knowledge               26707 non-null  float64\n",
      " 3   behavioral_antiviral_meds    26707 non-null  float64\n",
      " 4   behavioral_avoidance         26707 non-null  float64\n",
      " 5   behavioral_face_mask         26707 non-null  float64\n",
      " 6   behavioral_wash_hands        26707 non-null  float64\n",
      " 7   behavioral_large_gatherings  26707 non-null  float64\n",
      " 8   behavioral_outside_home      26707 non-null  float64\n",
      " 9   behavioral_touch_face        26707 non-null  float64\n",
      " 10  doctor_recc_h1n1             26707 non-null  float64\n",
      " 11  doctor_recc_seasonal         26707 non-null  float64\n",
      " 12  chronic_med_condition        26707 non-null  float64\n",
      " 13  child_under_6_months         26707 non-null  float64\n",
      " 14  health_worker                26707 non-null  float64\n",
      " 15  health_insurance             26707 non-null  object \n",
      " 16  opinion_h1n1_vacc_effective  26707 non-null  float64\n",
      " 17  opinion_h1n1_risk            26707 non-null  float64\n",
      " 18  opinion_h1n1_sick_from_vacc  26707 non-null  float64\n",
      " 19  opinion_seas_vacc_effective  26707 non-null  float64\n",
      " 20  opinion_seas_risk            26707 non-null  float64\n",
      " 21  opinion_seas_sick_from_vacc  26707 non-null  float64\n",
      " 22  age_group                    26707 non-null  object \n",
      " 23  education                    26707 non-null  object \n",
      " 24  race                         26707 non-null  object \n",
      " 25  sex                          26707 non-null  object \n",
      " 26  income_poverty               26707 non-null  object \n",
      " 27  marital_status               26707 non-null  object \n",
      " 28  rent_or_own                  26707 non-null  object \n",
      " 29  employment_status            26707 non-null  object \n",
      " 30  household_adults             26707 non-null  float64\n",
      " 31  household_children           26707 non-null  float64\n",
      " 32  h1n1_vaccine                 26707 non-null  int64  \n",
      " 33  seasonal_vaccine             26707 non-null  int64  \n",
      "dtypes: float64(22), int64(3), object(9)\n",
      "memory usage: 8.4+ MB\n"
     ]
    }
   ],
   "source": [
    "data.info()"
   ]
  },
  {
   "cell_type": "code",
   "execution_count": 8,
   "id": "9b1fabe4-cd57-437f-bc9d-5b10e49f67f8",
   "metadata": {},
   "outputs": [],
   "source": [
    "#FEATURE ENGINEERING\n",
    "\n",
    "# Combine household features\n",
    "data['household_size'] = data['household_adults'] + data['household_children']\n",
    "\n",
    "#Combine doctor recommendation column\n",
    "data['doctor_recc_both'] = data['doctor_recc_h1n1'] + data['doctor_recc_seasonal']\n",
    "\n",
    "\n",
    "#Combine multiple related behavioral flags to create an overall \"cautious behavior\" indicator.\n",
    "safe_behaviors = [\n",
    "    'behavioral_avoidance',\n",
    "    'behavioral_face_mask',\n",
    "    'behavioral_wash_hands',\n",
    "    'behavioral_large_gatherings',\n",
    "    'behavioral_outside_home',\n",
    "    'behavioral_touch_face'\n",
    "]\n",
    "data['safe_behavior_score'] = data[safe_behaviors].sum(axis=1)\n",
    "\n",
    "# Map to numerical: 1.0 = Yes, 0.0 = No, NA = Unknown\n",
    "data['health_insurance'] = data['health_insurance'].map({1.0: 1, 0.0: 0})\n",
    "data['health_insurance'] = data['health_insurance'].fillna(-1)  # -1 = Unknown\n",
    "\n",
    "#Eductaion column\n",
    "edu_order = {\n",
    "    '< 12 Years': 0,\n",
    "    '12 Years': 1,\n",
    "    'Some College': 2,\n",
    "    'College Graduate': 3\n",
    "}\n",
    "data['education'] = data['education'].map(edu_order)\n",
    "\n",
    "#Income column\n",
    "inc_order = {\n",
    "    'Below Poverty': 0,\n",
    "    '<= $75,000, Above Poverty': 1,\n",
    "    '> $75,000': 2\n",
    "}\n",
    "data['income_poverty'] = data['income_poverty'].map(inc_order)\n",
    "\n",
    "#Age group column\n",
    "age_order = {\n",
    "    '18 - 34 Years': 0,\n",
    "    '35 - 44 Years': 1,\n",
    "    '45 - 54 Years': 2,\n",
    "    '55 - 64 Years': 3,\n",
    "    '65+ Years': 4\n",
    "}\n",
    "data['age_group'] = data['age_group'].map(age_order)\n",
    "\n",
    "\n",
    "#One-Hot Encode Nominal Categories\n",
    "data = pd.get_dummies(data, columns=[\n",
    "    'race', 'sex', 'marital_status',\n",
    "    'rent_or_own', 'employment_status'\n",
    "], drop_first=True)  # Drop first to avoid multicollinearity\n",
    "\n",
    "\n",
    "#Drop unnecessary columns\n",
    "data.drop(columns=['household_adults', 'household_children', \"doctor_recc_h1n1\", \"doctor_recc_seasonal\"] + safe_behaviors, inplace=True)\n"
   ]
  },
  {
   "cell_type": "code",
   "execution_count": 9,
   "id": "e9c9756e-8018-40e4-8042-ed440d5679f3",
   "metadata": {},
   "outputs": [
    {
     "name": "stdout",
     "output_type": "stream",
     "text": [
      "<class 'pandas.core.frame.DataFrame'>\n",
      "Int64Index: 26707 entries, 0 to 26706\n",
      "Data columns (total 30 columns):\n",
      " #   Column                                Non-Null Count  Dtype  \n",
      "---  ------                                --------------  -----  \n",
      " 0   respondent_id                         26707 non-null  int64  \n",
      " 1   h1n1_concern                          26707 non-null  float64\n",
      " 2   h1n1_knowledge                        26707 non-null  float64\n",
      " 3   behavioral_antiviral_meds             26707 non-null  float64\n",
      " 4   chronic_med_condition                 26707 non-null  float64\n",
      " 5   child_under_6_months                  26707 non-null  float64\n",
      " 6   health_worker                         26707 non-null  float64\n",
      " 7   health_insurance                      26707 non-null  float64\n",
      " 8   opinion_h1n1_vacc_effective           26707 non-null  float64\n",
      " 9   opinion_h1n1_risk                     26707 non-null  float64\n",
      " 10  opinion_h1n1_sick_from_vacc           26707 non-null  float64\n",
      " 11  opinion_seas_vacc_effective           26707 non-null  float64\n",
      " 12  opinion_seas_risk                     26707 non-null  float64\n",
      " 13  opinion_seas_sick_from_vacc           26707 non-null  float64\n",
      " 14  age_group                             26707 non-null  int64  \n",
      " 15  education                             26707 non-null  int64  \n",
      " 16  income_poverty                        26707 non-null  int64  \n",
      " 17  h1n1_vaccine                          26707 non-null  int64  \n",
      " 18  seasonal_vaccine                      26707 non-null  int64  \n",
      " 19  household_size                        26707 non-null  float64\n",
      " 20  doctor_recc_both                      26707 non-null  float64\n",
      " 21  safe_behavior_score                   26707 non-null  float64\n",
      " 22  race_Hispanic                         26707 non-null  uint8  \n",
      " 23  race_Other or Multiple                26707 non-null  uint8  \n",
      " 24  race_White                            26707 non-null  uint8  \n",
      " 25  sex_Male                              26707 non-null  uint8  \n",
      " 26  marital_status_Not Married            26707 non-null  uint8  \n",
      " 27  rent_or_own_Rent                      26707 non-null  uint8  \n",
      " 28  employment_status_Not in Labor Force  26707 non-null  uint8  \n",
      " 29  employment_status_Unemployed          26707 non-null  uint8  \n",
      "dtypes: float64(16), int64(6), uint8(8)\n",
      "memory usage: 6.1 MB\n"
     ]
    }
   ],
   "source": [
    "data.info()"
   ]
  },
  {
   "cell_type": "code",
   "execution_count": 10,
   "id": "0210c87d-55d1-4881-9be7-d4702a4bd4ea",
   "metadata": {},
   "outputs": [
    {
     "name": "stdout",
     "output_type": "stream",
     "text": [
      "seasonal_vaccine                        0.377143\n",
      "doctor_recc_both                        0.335635\n",
      "opinion_h1n1_risk                       0.320580\n",
      "opinion_h1n1_vacc_effective             0.267352\n",
      "opinion_seas_risk                       0.255874\n",
      "health_insurance                        0.242393\n",
      "opinion_seas_vacc_effective             0.177799\n",
      "health_worker                           0.168056\n",
      "h1n1_concern                            0.121574\n",
      "h1n1_knowledge                          0.117771\n",
      "chronic_med_condition                   0.094360\n",
      "safe_behavior_score                     0.076697\n",
      "opinion_h1n1_sick_from_vacc             0.074580\n",
      "child_under_6_months                    0.066712\n",
      "education                               0.061739\n",
      "income_poverty                          0.052911\n",
      "age_group                               0.041074\n",
      "behavioral_antiviral_meds               0.040226\n",
      "race_White                              0.030887\n",
      "employment_status_Not in Labor Force    0.013065\n",
      "opinion_seas_sick_from_vacc             0.008415\n",
      "race_Other or Multiple                  0.002508\n",
      "household_size                          0.002405\n",
      "race_Hispanic                          -0.002902\n",
      "respondent_id                          -0.003280\n",
      "sex_Male                               -0.020672\n",
      "employment_status_Unemployed           -0.028935\n",
      "rent_or_own_Rent                       -0.030977\n",
      "marital_status_Not Married             -0.045194\n",
      "Name: h1n1_vaccine, dtype: float64\n"
     ]
    }
   ],
   "source": [
    "corr_h1n1 = data.corr()['h1n1_vaccine'].drop('h1n1_vaccine')\n",
    "corr_h1n1_sorted = corr_h1n1.sort_values(ascending=False)\n",
    "print(corr_h1n1_sorted)\n"
   ]
  },
  {
   "cell_type": "code",
   "execution_count": 11,
   "id": "70cdd3ef-5b20-46e3-827a-d9df3404b58b",
   "metadata": {},
   "outputs": [
    {
     "name": "stdout",
     "output_type": "stream",
     "text": [
      "opinion_seas_risk                       0.386916\n",
      "h1n1_vaccine                            0.377143\n",
      "opinion_seas_vacc_effective             0.358869\n",
      "doctor_recc_both                        0.318217\n",
      "age_group                               0.277454\n",
      "opinion_h1n1_risk                       0.215650\n",
      "opinion_h1n1_vacc_effective             0.203187\n",
      "chronic_med_condition                   0.169465\n",
      "h1n1_concern                            0.154488\n",
      "employment_status_Not in Labor Force    0.145819\n",
      "safe_behavior_score                     0.129281\n",
      "health_worker                           0.126977\n",
      "h1n1_knowledge                          0.119779\n",
      "health_insurance                        0.110874\n",
      "race_White                              0.100314\n",
      "income_poverty                          0.063805\n",
      "education                               0.056681\n",
      "opinion_h1n1_sick_from_vacc             0.027964\n",
      "child_under_6_months                    0.013424\n",
      "behavioral_antiviral_meds               0.006013\n",
      "respondent_id                          -0.004652\n",
      "race_Other or Multiple                 -0.023186\n",
      "marital_status_Not Married             -0.042360\n",
      "opinion_seas_sick_from_vacc            -0.060538\n",
      "race_Hispanic                          -0.066995\n",
      "sex_Male                               -0.077091\n",
      "employment_status_Unemployed           -0.078610\n",
      "rent_or_own_Rent                       -0.101796\n",
      "household_size                         -0.117408\n",
      "Name: seasonal_vaccine, dtype: float64\n"
     ]
    }
   ],
   "source": [
    "corr_s1 = data.corr()['seasonal_vaccine'].drop('seasonal_vaccine')\n",
    "corr_s1_sorted = corr_s1.sort_values(ascending=False)\n",
    "print(corr_s1_sorted)\n"
   ]
  },
  {
   "cell_type": "markdown",
   "id": "96623559-c841-4dd6-aea1-15a4a7916165",
   "metadata": {},
   "source": [
    "## Building a preprocessing pipeline\n"
   ]
  },
  {
   "cell_type": "markdown",
   "id": "f31e5cea-8bea-4ecf-85b7-a2b95a4a9b08",
   "metadata": {},
   "source": [
    "## Defining feature types."
   ]
  },
  {
   "cell_type": "code",
   "execution_count": 12,
   "id": "c9b0c818-f62e-45fe-bdcc-d3555a9e78c1",
   "metadata": {},
   "outputs": [],
   "source": [
    "# Drop identifier and target columns\n",
    "features = data.drop(columns=[\"respondent_id\", \"h1n1_vaccine\", \"seasonal_vaccine\"])\n",
    "\n",
    "# Define numerical, ordinal, and nominal features\n",
    "numerical_features = ['household_income', 'household_size', 'safe_behavior_score']\n",
    "ordinal_features = ['age_group', 'education', 'income_poverty', 'employment_status', 'health_insurance', 'doctor_recc_h1n1', 'doctor_recc_seasonal', 'opinion_h1n1_vacc_effective', 'opinion_h1n1_risk', 'opinion_h1n1_sick_from_vacc']  # example list — adjust based on your encoding\n",
    "nominal_features = [col for col in features.columns if col not in numerical_features + ordinal_features]\n"
   ]
  },
  {
   "cell_type": "code",
   "execution_count": 13,
   "id": "f1dbff60-56e8-4d23-91fd-4302c8e126a2",
   "metadata": {},
   "outputs": [],
   "source": [
    "from sklearn.pipeline import Pipeline\n",
    "from sklearn.compose import ColumnTransformer\n",
    "from sklearn.preprocessing import OneHotEncoder, OrdinalEncoder, StandardScaler\n",
    "from sklearn.impute import SimpleImputer\n"
   ]
  },
  {
   "cell_type": "markdown",
   "id": "69b398a3-77ed-4207-971b-80ec97dd63e6",
   "metadata": {},
   "source": [
    "### Creating preprocessing steps"
   ]
  },
  {
   "cell_type": "code",
   "execution_count": 14,
   "id": "eb4dfc95-83e1-43fa-b445-ce18f8bdb821",
   "metadata": {},
   "outputs": [],
   "source": [
    "# Numeric pipeline: median imputation + scaling\n",
    "numeric_transformer = Pipeline(steps=[\n",
    "    ('imputer', SimpleImputer(strategy='median')),\n",
    "    ('scaler', StandardScaler())\n",
    "])\n",
    "\n",
    "# Ordinal pipeline: impute then ordinal encode\n",
    "ordinal_transformer = Pipeline(steps=[\n",
    "    ('imputer', SimpleImputer(strategy='most_frequent')),\n",
    "    ('ordinal', OrdinalEncoder())\n",
    "])\n",
    "\n",
    "# Nominal pipeline: impute then one-hot encode\n",
    "nominal_transformer = Pipeline(steps=[\n",
    "    ('imputer', SimpleImputer(strategy='most_frequent')),\n",
    "    ('onehot', OneHotEncoder(handle_unknown='ignore', sparse=False))\n",
    "])\n"
   ]
  },
  {
   "cell_type": "markdown",
   "id": "ea01a930-c2e7-4cc9-8dcd-7b92267740f4",
   "metadata": {},
   "source": [
    " ### Combine into a ColumnTransformer"
   ]
  },
  {
   "cell_type": "code",
   "execution_count": 15,
   "id": "022041a2-8cc0-43ea-9e0f-4d0ad2c850e8",
   "metadata": {},
   "outputs": [],
   "source": [
    "preprocessor = ColumnTransformer(\n",
    "    transformers=[\n",
    "        ('num', numeric_transformer, numerical_features),\n",
    "        ('ord', ordinal_transformer, ordinal_features),\n",
    "        ('nom', nominal_transformer, nominal_features)\n",
    "    ])\n"
   ]
  },
  {
   "cell_type": "code",
   "execution_count": 16,
   "id": "ac47e9b3-e29c-4163-bf0c-387a0b2937b7",
   "metadata": {},
   "outputs": [],
   "source": [
    "from sklearn.linear_model import LogisticRegression\n",
    "from sklearn.pipeline import Pipeline\n",
    "\n",
    "# Define full pipeline with preprocessing and logistic regression\n",
    "clf = Pipeline(steps=[\n",
    "    ('preprocessor', preprocessor),\n",
    "    ('classifier', LogisticRegression(max_iter=1000))\n",
    "])\n"
   ]
  },
  {
   "cell_type": "markdown",
   "id": "bf54c689-1bd0-4856-8787-a3c76a623fd3",
   "metadata": {},
   "source": [
    "### Identify Irrelevant Features\n",
    "\n"
   ]
  },
  {
   "cell_type": "code",
   "execution_count": 17,
   "id": "81fa9b4c-06ef-4b8b-bbe6-bcaed13d5cae",
   "metadata": {},
   "outputs": [
    {
     "name": "stdout",
     "output_type": "stream",
     "text": [
      "Series([], dtype: float64)\n"
     ]
    }
   ],
   "source": [
    "# Percentage of missing values per column\n",
    "missing_percent = data.isnull().mean().sort_values(ascending=False)\n",
    "print(missing_percent[missing_percent > 0.4])  # show those with > 40% missing\n"
   ]
  },
  {
   "cell_type": "code",
   "execution_count": 18,
   "id": "ea9eed17-a62b-495f-b8af-555b49dbd0ea",
   "metadata": {},
   "outputs": [
    {
     "name": "stdout",
     "output_type": "stream",
     "text": [
      "Low-variance columns: []\n"
     ]
    }
   ],
   "source": [
    "low_variance_cols = [col for col in data.columns if data[col].nunique() <= 1]\n",
    "print(\"Low-variance columns:\", low_variance_cols)\n"
   ]
  },
  {
   "cell_type": "markdown",
   "id": "6849635b-d77f-45b4-bec3-b283b458aa6b",
   "metadata": {},
   "source": [
    "No low-variance columns were found."
   ]
  },
  {
   "cell_type": "markdown",
   "id": "d81585a0-b311-4176-8e6a-44bcbf7c68b6",
   "metadata": {},
   "source": [
    "Common irrelevant features in this vaccine dataset might include:\n",
    "\n",
    "respondent_id: just an identifier"
   ]
  },
  {
   "cell_type": "code",
   "execution_count": null,
   "id": "88a1d424-6c76-4c43-9df1-e774ecfa5f04",
   "metadata": {},
   "outputs": [
    {
     "name": "stdout",
     "output_type": "stream",
     "text": [
      "Cleaned dataset saved as 'cleaned_vaccine_data.csv'\n"
     ]
    }
   ],
   "source": [
    "# Drop respondent_id\n",
    "data_cleaned = data.drop(columns=['respondent_id'])\n",
    "\n",
    "# Save to CSV\n",
    "data_cleaned.to_csv(\"cleaned_vaccine_data.csv\", index=False)\n",
    "print(\"Cleaned dataset saved as 'cleaned_vaccine_data.csv'\")\n"
   ]
  },
  {
   "cell_type": "markdown",
   "id": "66c26419",
   "metadata": {},
   "source": [
    "# Basic Modelling\n",
    "With the cleaned dataset prepared, the next step is to begin modelling. In this section, we will first build a baseline classifier using Logistic Regression, followed by several additional models without hyperparameter tuning. Each model will be evaluated to identify the strongest performers, which will then be selected for further tuning and optimization in the next phase."
   ]
  },
  {
   "cell_type": "markdown",
   "id": "5b75b248",
   "metadata": {},
   "source": [
    "### MultiOutputClassifier Import\n",
    "Since this task involves predicting two binary labels (H1N1 and seasonal flu vaccines), we import `MultiOutputClassifier`. This allows us to wrap classifiers that typically handle a single target so they can predict multiple outputs simultaneously."
   ]
  },
  {
   "cell_type": "code",
   "execution_count": 20,
   "id": "eca80747",
   "metadata": {},
   "outputs": [],
   "source": [
    "# Import MultiOutputClassifier\n",
    "from sklearn.multioutput import MultiOutputClassifier"
   ]
  },
  {
   "cell_type": "markdown",
   "id": "0865af4e",
   "metadata": {},
   "source": [
    "### ModelTrainer Class Definition  \n",
    "To streamline the training and prediction process across multiple models, we define a `ModelTrainer` class. This class wraps a given base model (e.g. Logistic Regression) using `MultiOutputClassifier` to support multi-label classification.  \n",
    "\n",
    "The class includes methods for:\n",
    "- **Training** the model on test data.\n",
    "- Making class label **predictions**.\n",
    "- Generating **predicted probabilities** for evaluation metrics to support probability-based decision-making."
   ]
  },
  {
   "cell_type": "code",
   "execution_count": 21,
   "id": "032a2d38",
   "metadata": {},
   "outputs": [],
   "source": [
    "# Create a ModelTrainer class\n",
    "class ModelTrainer:\n",
    "    \n",
    "    def __init__(self, base_model, model_name):\n",
    "        # Save the model name for identification\n",
    "        self.model_name = model_name\n",
    "        # Wrap the base model (e.g., LogisticRegression) in MultiOutputClassifier to handle both vaccine labels\n",
    "        self.model = MultiOutputClassifier(base_model)\n",
    "        \n",
    "    def train(self, X_train, y_train):\n",
    "        # Fit the wrapped model on the training data\n",
    "        self.model.fit(X_train, y_train)\n",
    "        \n",
    "    def predict(self, X):\n",
    "        # Return predicted classes (0 or 1) for both labels\n",
    "        return self.model.predict(X)\n",
    "    \n",
    "    def predict_proba(self, X):\n",
    "        # Return predicted probabilities for both labels\n",
    "        return self.model.predict_proba(X)"
   ]
  },
  {
   "cell_type": "markdown",
   "id": "63d76d51",
   "metadata": {},
   "source": [
    "### Importing classification_report  \n",
    "We import `classification_report` to get access to various model evaluation metrics, particularly f1_score and recall."
   ]
  },
  {
   "cell_type": "code",
   "execution_count": 22,
   "id": "a6772c0c",
   "metadata": {},
   "outputs": [],
   "source": [
    "# Import classification_report\n",
    "from sklearn.metrics import classification_report"
   ]
  },
  {
   "cell_type": "markdown",
   "id": "ca9db543",
   "metadata": {},
   "source": [
    "### Evaluator Class Definition\n",
    "To simplify model evaluation, we define an `Evaluator` class with a single method, `evaluate`, which prints out performance metrics for each target label.  \n",
    "\n",
    "This method:\n",
    "- Takes the **true labels** and **predicted labels** as input, along with a **model name** for identification.\n",
    "- Iterates through each label (h1n1 and seasonal vaccine), generating a **classification report** that includes precision, recall, F1 score, and support."
   ]
  },
  {
   "cell_type": "code",
   "execution_count": 23,
   "id": "a6be15da",
   "metadata": {},
   "outputs": [],
   "source": [
    "# Create an Evaluator class\n",
    "class Evaluator:\n",
    "    def evaluate(y_true, y_pred, model_name):\n",
    "        print(f\"\\n===== Evaluation Report for {model_name} =====\\n\")\n",
    "\n",
    "        for i, label in enumerate(y_true.columns):\n",
    "            true_vals = y_true[label]\n",
    "            pred_vals = y_pred[:, i]\n",
    "\n",
    "            # Print classification report for this label\n",
    "            print(f\"\\n--- {label} ---\")\n",
    "            print(classification_report(true_vals, pred_vals))"
   ]
  },
  {
   "cell_type": "markdown",
   "id": "4a13fe6b",
   "metadata": {},
   "source": [
    "### Importing Models and Train-Test Split Utility  \n",
    "We import four classifiers: `LogisticRegression`,  `DecisionTreeClassifier`, `RandomForestClassifier`, `GradientBoostingClassifier`.\n",
    "\n",
    "Additionally, we import `train_test_split` to divide the dataset into training and validation sets."
   ]
  },
  {
   "cell_type": "code",
   "execution_count": 24,
   "id": "de4911b6",
   "metadata": {},
   "outputs": [],
   "source": [
    "# Import relevant models and train_test_split\n",
    "from sklearn.linear_model import LogisticRegression\n",
    "from sklearn.tree import DecisionTreeClassifier\n",
    "from sklearn.ensemble import RandomForestClassifier, GradientBoostingClassifier\n",
    "from sklearn.model_selection import train_test_split"
   ]
  },
  {
   "cell_type": "markdown",
   "id": "25d27242",
   "metadata": {},
   "source": [
    "### Create a dataframe for the cleaned data"
   ]
  },
  {
   "cell_type": "code",
   "execution_count": 25,
   "id": "4ea4d73a",
   "metadata": {},
   "outputs": [],
   "source": [
    "# Create a dataframe for cleaned vaccine data\n",
    "df = pd.read_csv(\"cleaned_vaccine_data.csv\")"
   ]
  },
  {
   "cell_type": "markdown",
   "id": "c8b1b3ea",
   "metadata": {},
   "source": [
    "### Separating Features and Labels "
   ]
  },
  {
   "cell_type": "code",
   "execution_count": 26,
   "id": "e9965e19",
   "metadata": {},
   "outputs": [],
   "source": [
    "# Separate features and labels\n",
    "X = df.drop(['h1n1_vaccine', 'seasonal_vaccine'], axis=1)\n",
    "y = df[['h1n1_vaccine', 'seasonal_vaccine']]"
   ]
  },
  {
   "cell_type": "markdown",
   "id": "452fa2da",
   "metadata": {},
   "source": [
    "### Train_test_split\n",
    "We split the dataset into training and test sets using `train_test_split`.  The `random_state` is set to 42 so the data split is reproducable. The split is also stratified to handle the class imbalance."
   ]
  },
  {
   "cell_type": "code",
   "execution_count": 27,
   "id": "6d81960e",
   "metadata": {},
   "outputs": [],
   "source": [
    "# Train-validation split with stratification\n",
    "X_train, X_val, y_train, y_val = train_test_split(X, y, test_size=0.3, random_state=42, stratify=y)"
   ]
  },
  {
   "cell_type": "markdown",
   "id": "bca03c6c",
   "metadata": {},
   "source": [
    "## Modelling and Evaluation"
   ]
  },
  {
   "cell_type": "markdown",
   "id": "4cf8342d",
   "metadata": {},
   "source": [
    "### Logistic Regression (Baseline Model)"
   ]
  },
  {
   "cell_type": "code",
   "execution_count": 28,
   "id": "fa369dac",
   "metadata": {},
   "outputs": [
    {
     "name": "stdout",
     "output_type": "stream",
     "text": [
      "\n",
      "===== Evaluation Report for Logistic Regression =====\n",
      "\n",
      "\n",
      "--- h1n1_vaccine ---\n",
      "              precision    recall  f1-score   support\n",
      "\n",
      "           0       0.86      0.95      0.91      6311\n",
      "           1       0.71      0.45      0.55      1702\n",
      "\n",
      "    accuracy                           0.84      8013\n",
      "   macro avg       0.79      0.70      0.73      8013\n",
      "weighted avg       0.83      0.84      0.83      8013\n",
      "\n",
      "\n",
      "--- seasonal_vaccine ---\n",
      "              precision    recall  f1-score   support\n",
      "\n",
      "           0       0.78      0.81      0.79      4282\n",
      "           1       0.77      0.73      0.75      3731\n",
      "\n",
      "    accuracy                           0.77      8013\n",
      "   macro avg       0.77      0.77      0.77      8013\n",
      "weighted avg       0.77      0.77      0.77      8013\n",
      "\n"
     ]
    }
   ],
   "source": [
    "# Initialise\n",
    "log_model = ModelTrainer(LogisticRegression(max_iter=1000), \"Logistic Regression\")\n",
    "\n",
    "# Train\n",
    "log_model.train(X_train, y_train)\n",
    "\n",
    "# Predict\n",
    "y_pred_log = log_model.predict(X_val)\n",
    "\n",
    "# Evaluate\n",
    "Evaluator.evaluate(y_val, y_pred_log, \"Logistic Regression\")"
   ]
  },
  {
   "cell_type": "markdown",
   "id": "6cb1cf1a",
   "metadata": {},
   "source": [
    "**Evaluation:**\n",
    "\n",
    "The baseline logistic regression model performed fairly well, with an **f1 score of 0.91** for people who did not receive the h1n1 vaccine and **0.79** for people who didn't receive the seasonal vaccine. This suggest that the model had solid predictive capability when identifying unvaccinated individuals, which is a key aim of project. However, when it came to identifying people who were vaccinated the model performed worse, particularly for h1n1 vaccinations where the **f1 score was 0.55**.  \n",
    "The model's ability to accurately predict individuals that won't get vaccinated is the priority, to ensure these members of the public can be addressed. Therefore, having **recall values of 0.81 and 0.95** on unvaccinated individuals, for the relevant vaccines, is positive. This model works as a good baseline to work off and optimise."
   ]
  },
  {
   "cell_type": "markdown",
   "id": "1658aa71",
   "metadata": {},
   "source": [
    "### Decision Tree"
   ]
  },
  {
   "cell_type": "code",
   "execution_count": 29,
   "id": "2610481e",
   "metadata": {},
   "outputs": [
    {
     "name": "stdout",
     "output_type": "stream",
     "text": [
      "\n",
      "===== Evaluation Report for Decision Tree =====\n",
      "\n",
      "\n",
      "--- h1n1_vaccine ---\n",
      "              precision    recall  f1-score   support\n",
      "\n",
      "           0       0.86      0.84      0.85      6311\n",
      "           1       0.45      0.50      0.48      1702\n",
      "\n",
      "    accuracy                           0.77      8013\n",
      "   macro avg       0.66      0.67      0.66      8013\n",
      "weighted avg       0.77      0.77      0.77      8013\n",
      "\n",
      "\n",
      "--- seasonal_vaccine ---\n",
      "              precision    recall  f1-score   support\n",
      "\n",
      "           0       0.70      0.70      0.70      4282\n",
      "           1       0.65      0.66      0.66      3731\n",
      "\n",
      "    accuracy                           0.68      8013\n",
      "   macro avg       0.68      0.68      0.68      8013\n",
      "weighted avg       0.68      0.68      0.68      8013\n",
      "\n"
     ]
    }
   ],
   "source": [
    "# Initialise\n",
    "dt_model = ModelTrainer(DecisionTreeClassifier(), \"Decision Tree\")\n",
    "\n",
    "# Train\n",
    "dt_model.train(X_train, y_train)\n",
    "\n",
    "# Predict\n",
    "y_pred_dt = dt_model.predict(X_val)\n",
    "\n",
    "# Evaluate\n",
    "Evaluator.evaluate(y_val, y_pred_dt, \"Decision Tree\")"
   ]
  },
  {
   "cell_type": "markdown",
   "id": "80a0704d",
   "metadata": {},
   "source": [
    "**Evaluation:**\n",
    "\n",
    "The decision tree model had lower performance than the logistic regression baseline, with an **f1-score of 0.85** for individuals who didn't receive the h1n1 vaccine and **0.70** for those who didn't receive the seasonal vaccine. These results suggest that model retained some ability to identify unvaccinated individuals. However, it performed poorly when identifying vaccinated individuals, with **f1-scores of 0.49 and 0.66** for h1n1 and seasonal vaccines, respectively.  \n",
    "Importantly the model's **recall for unvaccinated individuals of 0.84 for h1n1 vaccines and 0.71 for seasonal vaccines**, which was lower than the baseline. This under-classification poses a concern for the projects aim of accurately identifying unvaccinated individuals for targetted intervention. While the model did not perform poorly overall, it would require further tuning to rival other baseline models in both accuracy and effectiveness."
   ]
  },
  {
   "cell_type": "markdown",
   "id": "dd4d1fea",
   "metadata": {},
   "source": [
    "### Random Forest"
   ]
  },
  {
   "cell_type": "code",
   "execution_count": 30,
   "id": "ae52c1cb",
   "metadata": {},
   "outputs": [
    {
     "name": "stdout",
     "output_type": "stream",
     "text": [
      "\n",
      "===== Evaluation Report for Random Forest =====\n",
      "\n",
      "\n",
      "--- h1n1_vaccine ---\n",
      "              precision    recall  f1-score   support\n",
      "\n",
      "           0       0.86      0.96      0.91      6311\n",
      "           1       0.74      0.45      0.56      1702\n",
      "\n",
      "    accuracy                           0.85      8013\n",
      "   macro avg       0.80      0.70      0.73      8013\n",
      "weighted avg       0.84      0.85      0.83      8013\n",
      "\n",
      "\n",
      "--- seasonal_vaccine ---\n",
      "              precision    recall  f1-score   support\n",
      "\n",
      "           0       0.77      0.81      0.79      4282\n",
      "           1       0.77      0.73      0.75      3731\n",
      "\n",
      "    accuracy                           0.77      8013\n",
      "   macro avg       0.77      0.77      0.77      8013\n",
      "weighted avg       0.77      0.77      0.77      8013\n",
      "\n"
     ]
    }
   ],
   "source": [
    "# Initialise\n",
    "rf_model = ModelTrainer(RandomForestClassifier(), \"Random Forest\")\n",
    "\n",
    "# Train\n",
    "rf_model.train(X_train, y_train)\n",
    "\n",
    "# Predict\n",
    "y_pred_rf = rf_model.predict(X_val)\n",
    "\n",
    "# Evaluate\n",
    "Evaluator.evaluate(y_val, y_pred_rf, \"Random Forest\")"
   ]
  },
  {
   "cell_type": "markdown",
   "id": "76aee4da",
   "metadata": {},
   "source": [
    "**Evaluation:**\n",
    "\n",
    "The Random Forest model showed comparable performance to the Logistic Regression baseline, particularly in predicting unvaccinated individuals. It achieved an **F1 score of 0.91** for those who did not receive the h1n1 vaccine and **0.79** for those who did not receive the seasonal vaccine. These results indicate strong predictive ability for the target group of unvaccinated individuals. Performance was weaker for identifying vaccinated individuals, especially for h1n1, where the **F1 score was 0.56**.  \n",
    "Notably, the model's **recall for unvaccinated individuals was 0.96 for h1n1 vaccines and 0.81 for seasonal vaccines**, aligning with the project’s aim to reliably identify people unlikely to get vaccinated. The Random Forest model offers a strong performance in the key metrics and provides a good alternative to logistic regression."
   ]
  },
  {
   "cell_type": "markdown",
   "id": "c73e8a79",
   "metadata": {},
   "source": [
    "### Gradient Boosting"
   ]
  },
  {
   "cell_type": "code",
   "execution_count": 31,
   "id": "5e9ac67b",
   "metadata": {},
   "outputs": [
    {
     "name": "stdout",
     "output_type": "stream",
     "text": [
      "\n",
      "===== Evaluation Report for Gradient Boosting =====\n",
      "\n",
      "\n",
      "--- h1n1_vaccine ---\n",
      "              precision    recall  f1-score   support\n",
      "\n",
      "           0       0.87      0.95      0.91      6311\n",
      "           1       0.73      0.47      0.57      1702\n",
      "\n",
      "    accuracy                           0.85      8013\n",
      "   macro avg       0.80      0.71      0.74      8013\n",
      "weighted avg       0.84      0.85      0.84      8013\n",
      "\n",
      "\n",
      "--- seasonal_vaccine ---\n",
      "              precision    recall  f1-score   support\n",
      "\n",
      "           0       0.78      0.82      0.80      4282\n",
      "           1       0.78      0.74      0.76      3731\n",
      "\n",
      "    accuracy                           0.78      8013\n",
      "   macro avg       0.78      0.78      0.78      8013\n",
      "weighted avg       0.78      0.78      0.78      8013\n",
      "\n"
     ]
    }
   ],
   "source": [
    "# Initialise\n",
    "gb_model = ModelTrainer(GradientBoostingClassifier(), \"Gradient Boosting\")\n",
    "\n",
    "# Train\n",
    "gb_model.train(X_train, y_train)\n",
    "\n",
    "# Predict\n",
    "y_pred_gb = gb_model.predict(X_val)\n",
    "\n",
    "# Evaluate\n",
    "Evaluator.evaluate(y_val, y_pred_gb, \"Gradient Boosting\")"
   ]
  },
  {
   "cell_type": "markdown",
   "id": "8c0e3088",
   "metadata": {},
   "source": [
    "**Evaluation:**\n",
    "\n",
    "The Gradient Boosting model performed well, delivering strong results in identifying unvaccinated individuals. It achieved an **F1 score of 0.91** for people who did not receive the h1n1 vaccine and **0.80** for those who did not receive the seasonal vaccine, indicating effective predictive capability for the target group. However, as with other models, performance dropped when identifying vaccinated individuals, particularly for h1n1 where the **F1 score was 0.57**.\n",
    "\n",
    "Importantly, the model achieved **high recall scores among unvaccinated individuals of 0.95 for h1n1 vaccines and 0.82 for seasonal vaccines**, making it highly reliable for finding those who may need targeted outreach. Overall Gradient Boosting offers strong and comparable performance than other baseline models with it's balanced predictions and high recall for unvaccinated individuals."
   ]
  },
  {
   "cell_type": "markdown",
   "id": "d5b4121a",
   "metadata": {},
   "source": [
    "## Models recommended for hypertuning\n",
    "Based on the evaluation results and the project’s focus on accurately identifying unvaccinated individuals for targeted public health outreach, the two most suitable models to proceed with are Gradient Boosting and Random Forest.\n",
    "\n",
    "Both models consistently demonstrated high F1 scores for unvaccinated individuals: \n",
    "- Gradient Boosting - 0.91 for h1n1 vaccines and 0.80 for seasonal vaccines\n",
    "- Random Forest  - 0.91 for h1n1 vaccines and 0.79 for seasonal vaccines\n",
    "\n",
    "Both models also achieved the highest recall rates among all models for this group:\n",
    "- Gradient Boosting - 0.95 for h1n1 and 0.82 for seasonal vaccines\n",
    "- Random Forest - 0.96 h1n1 for and 0.81 for seasonal vaccines\n",
    "\n",
    "Ensuring that the majority of unvaccinated individuals are correctly identified is a critical factor in guiding public health interventions, making these metrics particularly important for model evaluation. \n",
    "\n",
    "Furthermore, both models offer robust predictive performance and greater stability across both labels. In contrast, the Decision Tree underperformed in key F1 and recall metrics (particularly for vaccinated individuals), and lacked the overall balance seen in the ensemble approaches. Logistic Regression, provided a reliable baseline performance but was outperformed in key recall and F1 metrics. Therefore, Gradient Boosting and Random Forest are recommended for further hyperparameter tuning to enhance their effectiveness in this public health task."
   ]
  },
  {
   "cell_type": "markdown",
   "id": "eefa20c2",
   "metadata": {},
   "source": [
    "#  **HYPERPARAMETER TUNNING**\n",
    "\n",
    "After training initial baseline models, we proceeded to improve model performance through **hyperparameter tuning**. This process involves searching for the best combination of model parameters to optimize performance metrics such as accuracy, F1-score, or AUC.\n",
    "\n",
    "Given the critical public health need to accurately identify unvaccinated individuals, we performed hyperparameter tuning on the two best-performing models:\n",
    "\n",
    "- **Gradient Boosting Classifier**\n",
    "- **Random Forest Classifier**\n",
    "\n",
    "These models were selected based on their strong F1 scores and recall for the unvaccinated class. We used `GridSearchCV` with 5-fold cross-validation and optimized for the weighted F1 score.\n"
   ]
  },
  {
   "cell_type": "code",
   "execution_count": null,
   "id": "8f5d2bbc",
   "metadata": {},
   "outputs": [],
   "source": [
    "from sklearn.model_selection import train_test_split\n",
    "\n",
    "# Full features and labels\n",
    "X = df.drop(['h1n1_vaccine', 'seasonal_vaccine'], axis=1)\n",
    "y = df[['h1n1_vaccine', 'seasonal_vaccine']]\n"
   ]
  },
  {
   "cell_type": "code",
   "execution_count": 81,
   "id": "f77da80d",
   "metadata": {},
   "outputs": [],
   "source": [
    "# Train-test split\n",
    "X_train, X_test, y_train, y_test = train_test_split(X, y, \n",
    "                                                    test_size=0.2, \n",
    "                                                    random_state=42, \n",
    "                                                    stratify=y)\n"
   ]
  },
  {
   "cell_type": "code",
   "execution_count": 82,
   "id": "c2dcec2d",
   "metadata": {},
   "outputs": [],
   "source": [
    "# Split the targets for multi-label\n",
    "y_train_h1n1 = y_train['h1n1_vaccine']\n",
    "y_test_h1n1 = y_test['h1n1_vaccine']\n",
    "\n",
    "y_train_seasonal = y_train['seasonal_vaccine']\n",
    "y_test_seasonal = y_test['seasonal_vaccine']"
   ]
  },
  {
   "cell_type": "markdown",
   "id": "0914cc88",
   "metadata": {},
   "source": [
    "### Define Models and Parameter Grids\n",
    "#### 1.For Random Forest:"
   ]
  },
  {
   "cell_type": "code",
   "execution_count": null,
   "id": "bcc917e6",
   "metadata": {},
   "outputs": [],
   "source": [
    "from sklearn.ensemble import RandomForestClassifier\n",
    "from sklearn.model_selection import GridSearchCV\n",
    "\n",
    "rf_params = {\n",
    "    'n_estimators': [100, 200],\n",
    "    'max_depth': [10, 20, None],\n",
    "    'min_samples_split': [2, 5],\n",
    "    'min_samples_leaf': [1, 2],\n",
    "    'max_features': ['sqrt', 'log2']\n",
    "}"
   ]
  },
  {
   "cell_type": "markdown",
   "id": "a622fd4a",
   "metadata": {},
   "source": [
    "#### 2. For Gradient Boosting:"
   ]
  },
  {
   "cell_type": "code",
   "execution_count": 77,
   "id": "0f9c3bb3",
   "metadata": {},
   "outputs": [],
   "source": [
    "from sklearn.ensemble import GradientBoostingClassifier\n",
    "\n",
    "gb_params = {\n",
    "    'n_estimators': [100, 200],\n",
    "    'learning_rate': [0.05, 0.1],\n",
    "    'max_depth': [3, 5],\n",
    "    'subsample': [0.8, 1.0],\n",
    "    'min_samples_split': [2, 5]\n",
    "}\n"
   ]
  },
  {
   "cell_type": "markdown",
   "id": "edef3488",
   "metadata": {},
   "source": [
    "#### 3. Run GridSearchCV with F1 Macro Scoring\n",
    "We should optimize for f1_macro or recall_macro to emphasize unvaccinated individuals (assuming class 0 is unvaccinated)."
   ]
  },
  {
   "cell_type": "code",
   "execution_count": 78,
   "id": "55f670cb",
   "metadata": {},
   "outputs": [
    {
     "name": "stdout",
     "output_type": "stream",
     "text": [
      "Fitting 5 folds for each of 48 candidates, totalling 240 fits\n"
     ]
    },
    {
     "name": "stderr",
     "output_type": "stream",
     "text": [
      "[Parallel(n_jobs=-1)]: Using backend LokyBackend with 8 concurrent workers.\n",
      "[Parallel(n_jobs=-1)]: Done  34 tasks      | elapsed:   32.3s\n",
      "[Parallel(n_jobs=-1)]: Done 184 tasks      | elapsed:  2.6min\n",
      "[Parallel(n_jobs=-1)]: Done 240 out of 240 | elapsed:  3.5min finished\n"
     ]
    },
    {
     "name": "stdout",
     "output_type": "stream",
     "text": [
      "Best parameters for H1N1 RF: {'max_depth': None, 'max_features': 'sqrt', 'min_samples_leaf': 1, 'min_samples_split': 5, 'n_estimators': 200}\n",
      "Best F1 Score: 0.7318305656658579\n"
     ]
    }
   ],
   "source": [
    "#  for H1N1 with Random Forest\n",
    "rf = RandomForestClassifier(random_state=42)\n",
    "\n",
    "grid_rf = GridSearchCV(estimator=rf,\n",
    "                       param_grid=rf_params,\n",
    "                       scoring='f1_macro',\n",
    "                       cv=5,\n",
    "                       verbose=1,\n",
    "                       n_jobs=-1)\n",
    "\n",
    "grid_rf.fit(X_train, y_train_h1n1)\n",
    "\n",
    "print(\"Best parameters for H1N1 RF:\", grid_rf.best_params_)\n",
    "print(\"Best F1 Score:\", grid_rf.best_score_)\n"
   ]
  },
  {
   "cell_type": "code",
   "execution_count": 79,
   "id": "1d487cd1",
   "metadata": {},
   "outputs": [
    {
     "name": "stdout",
     "output_type": "stream",
     "text": [
      "Fitting 5 folds for each of 32 candidates, totalling 160 fits\n"
     ]
    },
    {
     "name": "stderr",
     "output_type": "stream",
     "text": [
      "[Parallel(n_jobs=-1)]: Using backend LokyBackend with 8 concurrent workers.\n",
      "[Parallel(n_jobs=-1)]: Done  34 tasks      | elapsed:   35.9s\n",
      "[Parallel(n_jobs=-1)]: Done 160 out of 160 | elapsed:  3.3min finished\n"
     ]
    },
    {
     "name": "stdout",
     "output_type": "stream",
     "text": [
      "Best parameters for Seasonal GB: {'learning_rate': 0.1, 'max_depth': 3, 'min_samples_split': 2, 'n_estimators': 200, 'subsample': 1.0}\n",
      "Best F1 Score: 0.7793555273594437\n"
     ]
    }
   ],
   "source": [
    "#  for Seasonal Vaccine with Gradient Boosting:\n",
    "gb = GradientBoostingClassifier(random_state=42)\n",
    "\n",
    "grid_gb = GridSearchCV(estimator=gb,\n",
    "                       param_grid=gb_params,\n",
    "                       scoring='f1_macro',\n",
    "                       cv=5,\n",
    "                       verbose=1,\n",
    "                       n_jobs=-1)\n",
    "\n",
    "grid_gb.fit(X_train, y_train_seasonal)\n",
    "\n",
    "print(\"Best parameters for Seasonal GB:\", grid_gb.best_params_)\n",
    "print(\"Best F1 Score:\", grid_gb.best_score_)\n"
   ]
  },
  {
   "cell_type": "markdown",
   "id": "283a19a1",
   "metadata": {},
   "source": [
    "#### 4. Evaluate Tuned Models on the Test Set"
   ]
  },
  {
   "cell_type": "code",
   "execution_count": 83,
   "id": "bd5b63dc",
   "metadata": {},
   "outputs": [
    {
     "name": "stdout",
     "output_type": "stream",
     "text": [
      "              precision    recall  f1-score   support\n",
      "\n",
      "           0       0.87      0.96      0.91      4207\n",
      "           1       0.73      0.46      0.56      1135\n",
      "\n",
      "    accuracy                           0.85      5342\n",
      "   macro avg       0.80      0.71      0.74      5342\n",
      "weighted avg       0.84      0.85      0.84      5342\n",
      "\n"
     ]
    }
   ],
   "source": [
    "best_rf = grid_rf.best_estimator_\n",
    "best_rf.fit(X_train, y_train_h1n1)\n",
    "y_pred = best_rf.predict(X_test)\n",
    "\n",
    "from sklearn.metrics import classification_report\n",
    "print(classification_report(y_test_h1n1, y_pred))\n"
   ]
  },
  {
   "cell_type": "markdown",
   "id": "7fd7c2cb",
   "metadata": {},
   "source": [
    "**Class 0 (Unvaccinated) — Target Group**\n",
    "Recall: 0.96 → The model correctly identifies 96% of unvaccinated individuals — excellent performance for your project's goal.\n",
    "\n",
    "Precision: 0.87 → Of those predicted as unvaccinated, 87% were actually unvaccinated. This indicates low false positives.\n",
    "\n",
    "F1-score: 0.91 → Strong overall balance between precision and recall for this group.\n",
    "\n",
    "**Interpretation**: The model is doing a great job at detecting unvaccinated individuals, which is the primary focus of your project. Hyperparameter tuning successfully improved its ability to recall class 0."
   ]
  },
  {
   "cell_type": "markdown",
   "id": "ac9f29ef",
   "metadata": {},
   "source": [
    "**Class 1 (Vaccinated)**\n",
    "Recall: 0.46 → The model identifies only 46% of vaccinated individuals. More than half are misclassified.\n",
    "\n",
    "Precision: 0.73 → Of those predicted as vaccinated, 73% were correct.\n",
    "\n",
    "F1-score: 0.56 → Indicates moderate performance.\n",
    "\n",
    "**Interpretation**: The model struggles to identify vaccinated individuals, but this may be acceptable if the priority is to reduce false negatives for unvaccinated people (i.e., make sure we don't miss those who need vaccines)."
   ]
  },
  {
   "cell_type": "markdown",
   "id": "67e36da5",
   "metadata": {},
   "source": [
    "**Overall Metrics**\n",
    "\n",
    "Accuracy: 85% → The model predicts correctly 85% of the time.\n",
    "\n",
    "Macro Avg (Unweighted):\n",
    "\n",
    "Precision: 0.80\n",
    "\n",
    "Recall: 0.71\n",
    "\n",
    "F1: 0.74\n",
    "\n",
    "Weighted Avg (Accounts for class imbalance):\n",
    "\n",
    "Precision: 0.84\n",
    "\n",
    "Recall: 0.85\n",
    "\n",
    "F1: 0.84\n",
    "\n",
    "The weighted average reflects the overall performance but leans toward class 0 due to its higher frequency."
   ]
  },
  {
   "cell_type": "markdown",
   "id": "29925f46",
   "metadata": {},
   "source": [
    "Hyperparameter tuning led to strong recall and F1-score for unvaccinated individuals, which aligns perfectly with the project’s public health goals.\n",
    "\n",
    "The tradeoff is a lower recall for vaccinated individuals, which may be acceptable in your context.\n",
    "\n",
    "This tuned model (likely Random Forest or Gradient Boosting) is now better optimized to minimize the risk of missing people who need the vaccine.\n",
    "\n"
   ]
  }
 ],
 "metadata": {
  "kernelspec": {
   "display_name": "learn-env",
   "language": "python",
   "name": "python3"
  },
  "language_info": {
   "codemirror_mode": {
    "name": "ipython",
    "version": 3
   },
   "file_extension": ".py",
   "mimetype": "text/x-python",
   "name": "python",
   "nbconvert_exporter": "python",
   "pygments_lexer": "ipython3",
   "version": "3.8.5"
  }
 },
 "nbformat": 4,
 "nbformat_minor": 5
}
