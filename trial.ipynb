{
 "cells": [
  {
   "cell_type": "code",
   "execution_count": 1,
   "id": "ff794635-d5fa-40bf-a8a9-8ec8dc9b9a2a",
   "metadata": {},
   "outputs": [],
   "source": [
    "#importing necessary libraries\n",
    "import pandas as pd\n",
    "import seaborn as sns\n",
    "import matplotlib.pyplot as plt"
   ]
  },
  {
   "cell_type": "code",
   "execution_count": 2,
   "id": "3c6148a4-aa75-4523-a4ad-8027157b790b",
   "metadata": {},
   "outputs": [
    {
     "name": "stdout",
     "output_type": "stream",
     "text": [
      "Shape of the data after merging:\n",
      " (26707, 38)\n",
      "<class 'pandas.core.frame.DataFrame'>\n",
      "RangeIndex: 26707 entries, 0 to 26706\n",
      "Data columns (total 38 columns):\n",
      " #   Column                       Non-Null Count  Dtype  \n",
      "---  ------                       --------------  -----  \n",
      " 0   respondent_id                26707 non-null  int64  \n",
      " 1   h1n1_concern                 26615 non-null  float64\n",
      " 2   h1n1_knowledge               26591 non-null  float64\n",
      " 3   behavioral_antiviral_meds    26636 non-null  float64\n",
      " 4   behavioral_avoidance         26499 non-null  float64\n",
      " 5   behavioral_face_mask         26688 non-null  float64\n",
      " 6   behavioral_wash_hands        26665 non-null  float64\n",
      " 7   behavioral_large_gatherings  26620 non-null  float64\n",
      " 8   behavioral_outside_home      26625 non-null  float64\n",
      " 9   behavioral_touch_face        26579 non-null  float64\n",
      " 10  doctor_recc_h1n1             24547 non-null  float64\n",
      " 11  doctor_recc_seasonal         24547 non-null  float64\n",
      " 12  chronic_med_condition        25736 non-null  float64\n",
      " 13  child_under_6_months         25887 non-null  float64\n",
      " 14  health_worker                25903 non-null  float64\n",
      " 15  health_insurance             14433 non-null  float64\n",
      " 16  opinion_h1n1_vacc_effective  26316 non-null  float64\n",
      " 17  opinion_h1n1_risk            26319 non-null  float64\n",
      " 18  opinion_h1n1_sick_from_vacc  26312 non-null  float64\n",
      " 19  opinion_seas_vacc_effective  26245 non-null  float64\n",
      " 20  opinion_seas_risk            26193 non-null  float64\n",
      " 21  opinion_seas_sick_from_vacc  26170 non-null  float64\n",
      " 22  age_group                    26707 non-null  object \n",
      " 23  education                    25300 non-null  object \n",
      " 24  race                         26707 non-null  object \n",
      " 25  sex                          26707 non-null  object \n",
      " 26  income_poverty               22284 non-null  object \n",
      " 27  marital_status               25299 non-null  object \n",
      " 28  rent_or_own                  24665 non-null  object \n",
      " 29  employment_status            25244 non-null  object \n",
      " 30  hhs_geo_region               26707 non-null  object \n",
      " 31  census_msa                   26707 non-null  object \n",
      " 32  household_adults             26458 non-null  float64\n",
      " 33  household_children           26458 non-null  float64\n",
      " 34  employment_industry          13377 non-null  object \n",
      " 35  employment_occupation        13237 non-null  object \n",
      " 36  h1n1_vaccine                 26707 non-null  int64  \n",
      " 37  seasonal_vaccine             26707 non-null  int64  \n",
      "dtypes: float64(23), int64(3), object(12)\n",
      "memory usage: 7.7+ MB\n",
      "\n",
      "\n",
      " Data info:\n",
      " None\n",
      "\n",
      " Missing values:\n",
      " h1n1_concern                      92\n",
      "h1n1_knowledge                   116\n",
      "behavioral_antiviral_meds         71\n",
      "behavioral_avoidance             208\n",
      "behavioral_face_mask              19\n",
      "behavioral_wash_hands             42\n",
      "behavioral_large_gatherings       87\n",
      "behavioral_outside_home           82\n",
      "behavioral_touch_face            128\n",
      "doctor_recc_h1n1                2160\n",
      "doctor_recc_seasonal            2160\n",
      "chronic_med_condition            971\n",
      "child_under_6_months             820\n",
      "health_worker                    804\n",
      "health_insurance               12274\n",
      "opinion_h1n1_vacc_effective      391\n",
      "opinion_h1n1_risk                388\n",
      "opinion_h1n1_sick_from_vacc      395\n",
      "opinion_seas_vacc_effective      462\n",
      "opinion_seas_risk                514\n",
      "opinion_seas_sick_from_vacc      537\n",
      "education                       1407\n",
      "income_poverty                  4423\n",
      "marital_status                  1408\n",
      "rent_or_own                     2042\n",
      "employment_status               1463\n",
      "household_adults                 249\n",
      "household_children               249\n",
      "employment_industry            13330\n",
      "employment_occupation          13470\n",
      "dtype: int64\n"
     ]
    }
   ],
   "source": [
    "features=pd.read_csv(\"data/training_set_features.csv\")\n",
    "labels=pd.read_csv(\"data/training_set_labels.csv\")\n",
    "\n",
    "#Merging the train features and labels\n",
    "data=features.merge(labels, on=\"respondent_id\")\n",
    "\n",
    "#Shape of the data after merging\n",
    "print(\"Shape of the data after merging:\\n\", data.shape)\n",
    "\n",
    "# Data info\n",
    "print(\"\\n\\n Data info:\\n\", data.info())\n",
    "\n",
    "# Check for null values\n",
    "missing_summary = data.isnull().sum()\n",
    "print(\"\\n Missing values:\\n\", missing_summary[missing_summary > 0])"
   ]
  },
  {
   "cell_type": "code",
   "execution_count": 3,
   "id": "59ba6bf5-a4f3-41ee-935a-575a8cfac849",
   "metadata": {},
   "outputs": [
    {
     "name": "stdout",
     "output_type": "stream",
     "text": [
      "Index(['respondent_id', 'h1n1_concern', 'h1n1_knowledge',\n",
      "       'behavioral_antiviral_meds', 'behavioral_avoidance',\n",
      "       'behavioral_face_mask', 'behavioral_wash_hands',\n",
      "       'behavioral_large_gatherings', 'behavioral_outside_home',\n",
      "       'behavioral_touch_face', 'doctor_recc_h1n1', 'doctor_recc_seasonal',\n",
      "       'chronic_med_condition', 'child_under_6_months', 'health_worker',\n",
      "       'health_insurance', 'opinion_h1n1_vacc_effective', 'opinion_h1n1_risk',\n",
      "       'opinion_h1n1_sick_from_vacc', 'opinion_seas_vacc_effective',\n",
      "       'opinion_seas_risk', 'opinion_seas_sick_from_vacc', 'age_group',\n",
      "       'education', 'race', 'sex', 'income_poverty', 'marital_status',\n",
      "       'rent_or_own', 'employment_status', 'hhs_geo_region', 'census_msa',\n",
      "       'household_adults', 'household_children', 'h1n1_vaccine',\n",
      "       'seasonal_vaccine'],\n",
      "      dtype='object')\n",
      "\n",
      " Numerical features:\n",
      "  ['respondent_id', 'h1n1_concern', 'h1n1_knowledge', 'behavioral_antiviral_meds', 'behavioral_avoidance', 'behavioral_face_mask', 'behavioral_wash_hands', 'behavioral_large_gatherings', 'behavioral_outside_home', 'behavioral_touch_face', 'doctor_recc_h1n1', 'doctor_recc_seasonal', 'chronic_med_condition', 'child_under_6_months', 'health_worker', 'opinion_h1n1_vacc_effective', 'opinion_h1n1_risk', 'opinion_h1n1_sick_from_vacc', 'opinion_seas_vacc_effective', 'opinion_seas_risk', 'opinion_seas_sick_from_vacc', 'household_adults', 'household_children', 'h1n1_vaccine', 'seasonal_vaccine']\n",
      "\n",
      " Categorical features:\n",
      " ['health_insurance', 'age_group', 'education', 'race', 'sex', 'income_poverty', 'marital_status', 'rent_or_own', 'employment_status', 'hhs_geo_region', 'census_msa']\n",
      "<class 'pandas.core.frame.DataFrame'>\n",
      "RangeIndex: 26707 entries, 0 to 26706\n",
      "Data columns (total 34 columns):\n",
      " #   Column                       Non-Null Count  Dtype  \n",
      "---  ------                       --------------  -----  \n",
      " 0   respondent_id                26707 non-null  int64  \n",
      " 1   h1n1_concern                 26707 non-null  float64\n",
      " 2   h1n1_knowledge               26707 non-null  float64\n",
      " 3   behavioral_antiviral_meds    26707 non-null  float64\n",
      " 4   behavioral_avoidance         26707 non-null  float64\n",
      " 5   behavioral_face_mask         26707 non-null  float64\n",
      " 6   behavioral_wash_hands        26707 non-null  float64\n",
      " 7   behavioral_large_gatherings  26707 non-null  float64\n",
      " 8   behavioral_outside_home      26707 non-null  float64\n",
      " 9   behavioral_touch_face        26707 non-null  float64\n",
      " 10  doctor_recc_h1n1             26707 non-null  float64\n",
      " 11  doctor_recc_seasonal         26707 non-null  float64\n",
      " 12  chronic_med_condition        26707 non-null  float64\n",
      " 13  child_under_6_months         26707 non-null  float64\n",
      " 14  health_worker                26707 non-null  float64\n",
      " 15  health_insurance             26707 non-null  object \n",
      " 16  opinion_h1n1_vacc_effective  26707 non-null  float64\n",
      " 17  opinion_h1n1_risk            26707 non-null  float64\n",
      " 18  opinion_h1n1_sick_from_vacc  26707 non-null  float64\n",
      " 19  opinion_seas_vacc_effective  26707 non-null  float64\n",
      " 20  opinion_seas_risk            26707 non-null  float64\n",
      " 21  opinion_seas_sick_from_vacc  26707 non-null  float64\n",
      " 22  age_group                    26707 non-null  object \n",
      " 23  education                    26707 non-null  object \n",
      " 24  race                         26707 non-null  object \n",
      " 25  sex                          26707 non-null  object \n",
      " 26  income_poverty               26707 non-null  object \n",
      " 27  marital_status               26707 non-null  object \n",
      " 28  rent_or_own                  26707 non-null  object \n",
      " 29  employment_status            26707 non-null  object \n",
      " 30  household_adults             26707 non-null  float64\n",
      " 31  household_children           26707 non-null  float64\n",
      " 32  h1n1_vaccine                 26707 non-null  int64  \n",
      " 33  seasonal_vaccine             26707 non-null  int64  \n",
      "dtypes: float64(22), int64(3), object(9)\n",
      "memory usage: 6.9+ MB\n"
     ]
    }
   ],
   "source": [
    "#HANDLING MISSING DATA\n",
    "\n",
    "# 1. Drop employment columns (50%+ missing)\n",
    "data = data.drop(['employment_industry', 'employment_occupation'], axis=1)\n",
    "print(data.columns)\n",
    "\n",
    "\n",
    "#2. Filling missing with NA (45.96% missing)\n",
    "data['health_insurance'] = data['health_insurance'].fillna('NA')\n",
    "\n",
    "# Separate numerical and categorical\n",
    "numerical_cols = data.select_dtypes(include=['int64', 'float64']).columns\n",
    "categorical_cols = data.select_dtypes(include=['object']).columns\n",
    "\n",
    "print(\"\\n Numerical features:\\n \", list(numerical_cols))\n",
    "print(\"\\n Categorical features:\\n\", list(categorical_cols))\n",
    "\n",
    "\n",
    "# 3. Filling numerical columns with median\n",
    "for col in numerical_cols:\n",
    "    if data[col].isnull().sum() > 0:\n",
    "        median_val = data[col].median()\n",
    "        data[col].fillna(median_val, inplace=True)\n",
    "\n",
    "#4. Filling categorical columns with mode\n",
    "for col in categorical_cols:\n",
    "    if data[col].isnull().sum() > 0:\n",
    "        mode_val = data[col].mode()[0]\n",
    "        data[col].fillna(mode_val, inplace=True)\n",
    "\n",
    "#Drop other unnecessary columns\n",
    "data.drop(columns=[\"hhs_geo_region\", \"census_msa\"],inplace=True)\n",
    "\n",
    "data.info()"
   ]
  },
  {
   "cell_type": "code",
   "execution_count": 13,
   "id": "54162ba6-227e-416b-8fe7-a61b7bed676e",
   "metadata": {},
   "outputs": [
    {
     "data": {
      "image/png": "[encoded data removed]",
      "text/plain": [
       "<Figure size 640x480 with 1 Axes>"
      ]
     },
     "metadata": {},
     "output_type": "display_data"
    },
    {
     "data": {
      "image/png": "[encoded data removed]",
      "text/plain": [
       "<Figure size 640x480 with 1 Axes>"
      ]
     },
     "metadata": {},
     "output_type": "display_data"
    },
    {
     "ename": "ValueError",
     "evalue": "Could not interpret input 'race'",
     "output_type": "error",
     "traceback": [
      "\u001b[1;31m---------------------------------------------------------------------------\u001b[0m",
      "\u001b[1;31mValueError\u001b[0m                                Traceback (most recent call last)",
      "Cell \u001b[1;32mIn[13], line 6\u001b[0m\n\u001b[0;32m      2\u001b[0m key_features \u001b[38;5;241m=\u001b[39m [\u001b[38;5;124m'\u001b[39m\u001b[38;5;124mage_group\u001b[39m\u001b[38;5;124m'\u001b[39m, \u001b[38;5;124m'\u001b[39m\u001b[38;5;124meducation\u001b[39m\u001b[38;5;124m'\u001b[39m, \u001b[38;5;124m'\u001b[39m\u001b[38;5;124mrace\u001b[39m\u001b[38;5;124m'\u001b[39m, \u001b[38;5;124m'\u001b[39m\u001b[38;5;124mincome_poverty\u001b[39m\u001b[38;5;124m'\u001b[39m,\n\u001b[0;32m      3\u001b[0m                 \u001b[38;5;124m'\u001b[39m\u001b[38;5;124mdoctor_recc_h1n1\u001b[39m\u001b[38;5;124m'\u001b[39m, \u001b[38;5;124m'\u001b[39m\u001b[38;5;124mopinion_h1n1_vacc_effective\u001b[39m\u001b[38;5;124m'\u001b[39m]\n\u001b[0;32m      5\u001b[0m \u001b[38;5;28;01mfor\u001b[39;00m feature \u001b[38;5;129;01min\u001b[39;00m key_features:\n\u001b[1;32m----> 6\u001b[0m     sns\u001b[38;5;241m.\u001b[39mcountplot(data\u001b[38;5;241m=\u001b[39mdata, x\u001b[38;5;241m=\u001b[39mfeature, hue\u001b[38;5;241m=\u001b[39mdata[\u001b[38;5;124m'\u001b[39m\u001b[38;5;124mh1n1_vaccine\u001b[39m\u001b[38;5;124m'\u001b[39m]\u001b[38;5;241m.\u001b[39mastype(\u001b[38;5;28mstr\u001b[39m))\n\u001b[0;32m      7\u001b[0m     plt\u001b[38;5;241m.\u001b[39mxticks(rotation\u001b[38;5;241m=\u001b[39m\u001b[38;5;241m45\u001b[39m)\n\u001b[0;32m      8\u001b[0m     plt\u001b[38;5;241m.\u001b[39mtitle(\u001b[38;5;124mf\u001b[39m\u001b[38;5;124m\"\u001b[39m\u001b[38;5;124mH1N1 Vaccine Uptake by \u001b[39m\u001b[38;5;132;01m{\u001b[39;00mfeature\u001b[38;5;132;01m}\u001b[39;00m\u001b[38;5;124m\"\u001b[39m)\n",
      "File \u001b[1;32m~\\anaconda3\\Lib\\site-packages\\seaborn\\categorical.py:2943\u001b[0m, in \u001b[0;36mcountplot\u001b[1;34m(data, x, y, hue, order, hue_order, orient, color, palette, saturation, width, dodge, ax, **kwargs)\u001b[0m\n\u001b[0;32m   2940\u001b[0m \u001b[38;5;28;01melif\u001b[39;00m x \u001b[38;5;129;01mis\u001b[39;00m \u001b[38;5;129;01mnot\u001b[39;00m \u001b[38;5;28;01mNone\u001b[39;00m \u001b[38;5;129;01mand\u001b[39;00m y \u001b[38;5;129;01mis\u001b[39;00m \u001b[38;5;129;01mnot\u001b[39;00m \u001b[38;5;28;01mNone\u001b[39;00m:\n\u001b[0;32m   2941\u001b[0m     \u001b[38;5;28;01mraise\u001b[39;00m \u001b[38;5;167;01mValueError\u001b[39;00m(\u001b[38;5;124m\"\u001b[39m\u001b[38;5;124mCannot pass values for both `x` and `y`\u001b[39m\u001b[38;5;124m\"\u001b[39m)\n\u001b[1;32m-> 2943\u001b[0m plotter \u001b[38;5;241m=\u001b[39m _CountPlotter(\n\u001b[0;32m   2944\u001b[0m     x, y, hue, data, order, hue_order,\n\u001b[0;32m   2945\u001b[0m     estimator, errorbar, n_boot, units, seed,\n\u001b[0;32m   2946\u001b[0m     orient, color, palette, saturation,\n\u001b[0;32m   2947\u001b[0m     width, errcolor, errwidth, capsize, dodge\n\u001b[0;32m   2948\u001b[0m )\n\u001b[0;32m   2950\u001b[0m plotter\u001b[38;5;241m.\u001b[39mvalue_label \u001b[38;5;241m=\u001b[39m \u001b[38;5;124m\"\u001b[39m\u001b[38;5;124mcount\u001b[39m\u001b[38;5;124m\"\u001b[39m\n\u001b[0;32m   2952\u001b[0m \u001b[38;5;28;01mif\u001b[39;00m ax \u001b[38;5;129;01mis\u001b[39;00m \u001b[38;5;28;01mNone\u001b[39;00m:\n",
      "File \u001b[1;32m~\\anaconda3\\Lib\\site-packages\\seaborn\\categorical.py:1530\u001b[0m, in \u001b[0;36m_BarPlotter.__init__\u001b[1;34m(self, x, y, hue, data, order, hue_order, estimator, errorbar, n_boot, units, seed, orient, color, palette, saturation, width, errcolor, errwidth, capsize, dodge)\u001b[0m\n\u001b[0;32m   1525\u001b[0m \u001b[38;5;28;01mdef\u001b[39;00m \u001b[38;5;21m__init__\u001b[39m(\u001b[38;5;28mself\u001b[39m, x, y, hue, data, order, hue_order,\n\u001b[0;32m   1526\u001b[0m              estimator, errorbar, n_boot, units, seed,\n\u001b[0;32m   1527\u001b[0m              orient, color, palette, saturation, width,\n\u001b[0;32m   1528\u001b[0m              errcolor, errwidth, capsize, dodge):\n\u001b[0;32m   1529\u001b[0m \u001b[38;5;250m    \u001b[39m\u001b[38;5;124;03m\"\"\"Initialize the plotter.\"\"\"\u001b[39;00m\n\u001b[1;32m-> 1530\u001b[0m     \u001b[38;5;28mself\u001b[39m\u001b[38;5;241m.\u001b[39mestablish_variables(x, y, hue, data, orient,\n\u001b[0;32m   1531\u001b[0m                              order, hue_order, units)\n\u001b[0;32m   1532\u001b[0m     \u001b[38;5;28mself\u001b[39m\u001b[38;5;241m.\u001b[39mestablish_colors(color, palette, saturation)\n\u001b[0;32m   1533\u001b[0m     \u001b[38;5;28mself\u001b[39m\u001b[38;5;241m.\u001b[39mestimate_statistic(estimator, errorbar, n_boot, seed)\n",
      "File \u001b[1;32m~\\anaconda3\\Lib\\site-packages\\seaborn\\categorical.py:541\u001b[0m, in \u001b[0;36m_CategoricalPlotter.establish_variables\u001b[1;34m(self, x, y, hue, data, orient, order, hue_order, units)\u001b[0m\n\u001b[0;32m    539\u001b[0m     \u001b[38;5;28;01mif\u001b[39;00m \u001b[38;5;28misinstance\u001b[39m(var, \u001b[38;5;28mstr\u001b[39m):\n\u001b[0;32m    540\u001b[0m         err \u001b[38;5;241m=\u001b[39m \u001b[38;5;124mf\u001b[39m\u001b[38;5;124m\"\u001b[39m\u001b[38;5;124mCould not interpret input \u001b[39m\u001b[38;5;124m'\u001b[39m\u001b[38;5;132;01m{\u001b[39;00mvar\u001b[38;5;132;01m}\u001b[39;00m\u001b[38;5;124m'\u001b[39m\u001b[38;5;124m\"\u001b[39m\n\u001b[1;32m--> 541\u001b[0m         \u001b[38;5;28;01mraise\u001b[39;00m \u001b[38;5;167;01mValueError\u001b[39;00m(err)\n\u001b[0;32m    543\u001b[0m \u001b[38;5;66;03m# Figure out the plotting orientation\u001b[39;00m\n\u001b[0;32m    544\u001b[0m orient \u001b[38;5;241m=\u001b[39m infer_orient(\n\u001b[0;32m    545\u001b[0m     x, y, orient, require_numeric\u001b[38;5;241m=\u001b[39m\u001b[38;5;28mself\u001b[39m\u001b[38;5;241m.\u001b[39mrequire_numeric\n\u001b[0;32m    546\u001b[0m )\n",
      "\u001b[1;31mValueError\u001b[0m: Could not interpret input 'race'"
     ]
    }
   ],
   "source": [
    "# Quick loop to inspect how key features relate to H1N1 vaccine\n",
    "key_features = ['age_group', 'education', 'race', 'income_poverty',\n",
    "                'doctor_recc_h1n1', 'opinion_h1n1_vacc_effective']\n",
    "\n",
    "for feature in key_features:\n",
    "    sns.countplot(data=data, x=feature, hue=data['h1n1_vaccine'].astype(str))\n",
    "    plt.xticks(rotation=45)\n",
    "    plt.title(f\"H1N1 Vaccine Uptake by {feature}\")\n",
    "    plt.xlabel(feature)\n",
    "    plt.ylabel(\"Count\")\n",
    "    plt.legend(title=\"H1N1 Vaccine\")\n",
    "    plt.show()\n",
    "\n"
   ]
  },
  {
   "cell_type": "code",
   "execution_count": 5,
   "id": "dc363bb2-c7ff-4270-a179-8e0dc5673a0a",
   "metadata": {},
   "outputs": [
    {
     "ename": "AttributeError",
     "evalue": "'numpy.int64' object has no attribute 'startswith'",
     "output_type": "error",
     "traceback": [
      "\u001b[1;31m---------------------------------------------------------------------------\u001b[0m",
      "\u001b[1;31mAttributeError\u001b[0m                            Traceback (most recent call last)",
      "Cell \u001b[1;32mIn[5], line 5\u001b[0m\n\u001b[0;32m      1\u001b[0m key_features \u001b[38;5;241m=\u001b[39m [\u001b[38;5;124m'\u001b[39m\u001b[38;5;124mage_group\u001b[39m\u001b[38;5;124m'\u001b[39m, \u001b[38;5;124m'\u001b[39m\u001b[38;5;124meducation\u001b[39m\u001b[38;5;124m'\u001b[39m, \u001b[38;5;124m'\u001b[39m\u001b[38;5;124mrace\u001b[39m\u001b[38;5;124m'\u001b[39m, \u001b[38;5;124m'\u001b[39m\u001b[38;5;124mincome_poverty\u001b[39m\u001b[38;5;124m'\u001b[39m,\n\u001b[0;32m      2\u001b[0m                 \u001b[38;5;124m'\u001b[39m\u001b[38;5;124mdoctor_recc_h1n1\u001b[39m\u001b[38;5;124m'\u001b[39m, \u001b[38;5;124m'\u001b[39m\u001b[38;5;124mopinion_h1n1_vacc_effective\u001b[39m\u001b[38;5;124m'\u001b[39m]\n\u001b[0;32m      4\u001b[0m \u001b[38;5;28;01mfor\u001b[39;00m feature \u001b[38;5;129;01min\u001b[39;00m key_features:\n\u001b[1;32m----> 5\u001b[0m     sns\u001b[38;5;241m.\u001b[39mcountplot(data\u001b[38;5;241m=\u001b[39mdata, x\u001b[38;5;241m=\u001b[39mfeature, hue\u001b[38;5;241m=\u001b[39m\u001b[38;5;124m'\u001b[39m\u001b[38;5;124mseasonal_vaccine\u001b[39m\u001b[38;5;124m'\u001b[39m)\n\u001b[0;32m      6\u001b[0m     plt\u001b[38;5;241m.\u001b[39mxticks(rotation\u001b[38;5;241m=\u001b[39m\u001b[38;5;241m45\u001b[39m)\n\u001b[0;32m      7\u001b[0m     plt\u001b[38;5;241m.\u001b[39mtitle(\u001b[38;5;124mf\u001b[39m\u001b[38;5;124m\"\u001b[39m\u001b[38;5;124mSeasonal Vaccine Uptake by \u001b[39m\u001b[38;5;132;01m{\u001b[39;00mfeature\u001b[38;5;132;01m}\u001b[39;00m\u001b[38;5;124m\"\u001b[39m)\n",
      "File \u001b[1;32m~\\anaconda3\\Lib\\site-packages\\seaborn\\categorical.py:2955\u001b[0m, in \u001b[0;36mcountplot\u001b[1;34m(data, x, y, hue, order, hue_order, orient, color, palette, saturation, width, dodge, ax, **kwargs)\u001b[0m\n\u001b[0;32m   2952\u001b[0m \u001b[38;5;28;01mif\u001b[39;00m ax \u001b[38;5;129;01mis\u001b[39;00m \u001b[38;5;28;01mNone\u001b[39;00m:\n\u001b[0;32m   2953\u001b[0m     ax \u001b[38;5;241m=\u001b[39m plt\u001b[38;5;241m.\u001b[39mgca()\n\u001b[1;32m-> 2955\u001b[0m plotter\u001b[38;5;241m.\u001b[39mplot(ax, kwargs)\n\u001b[0;32m   2956\u001b[0m \u001b[38;5;28;01mreturn\u001b[39;00m ax\n",
      "File \u001b[1;32m~\\anaconda3\\Lib\\site-packages\\seaborn\\categorical.py:1587\u001b[0m, in \u001b[0;36m_BarPlotter.plot\u001b[1;34m(self, ax, bar_kws)\u001b[0m\n\u001b[0;32m   1585\u001b[0m \u001b[38;5;250m\u001b[39m\u001b[38;5;124;03m\"\"\"Make the plot.\"\"\"\u001b[39;00m\n\u001b[0;32m   1586\u001b[0m \u001b[38;5;28mself\u001b[39m\u001b[38;5;241m.\u001b[39mdraw_bars(ax, bar_kws)\n\u001b[1;32m-> 1587\u001b[0m \u001b[38;5;28mself\u001b[39m\u001b[38;5;241m.\u001b[39mannotate_axes(ax)\n\u001b[0;32m   1588\u001b[0m \u001b[38;5;28;01mif\u001b[39;00m \u001b[38;5;28mself\u001b[39m\u001b[38;5;241m.\u001b[39morient \u001b[38;5;241m==\u001b[39m \u001b[38;5;124m\"\u001b[39m\u001b[38;5;124mh\u001b[39m\u001b[38;5;124m\"\u001b[39m:\n\u001b[0;32m   1589\u001b[0m     ax\u001b[38;5;241m.\u001b[39minvert_yaxis()\n",
      "File \u001b[1;32m~\\anaconda3\\Lib\\site-packages\\seaborn\\categorical.py:767\u001b[0m, in \u001b[0;36m_CategoricalPlotter.annotate_axes\u001b[1;34m(self, ax)\u001b[0m\n\u001b[0;32m    764\u001b[0m     ax\u001b[38;5;241m.\u001b[39mset_ylim(\u001b[38;5;241m-\u001b[39m\u001b[38;5;241m.5\u001b[39m, \u001b[38;5;28mlen\u001b[39m(\u001b[38;5;28mself\u001b[39m\u001b[38;5;241m.\u001b[39mplot_data) \u001b[38;5;241m-\u001b[39m \u001b[38;5;241m.5\u001b[39m, auto\u001b[38;5;241m=\u001b[39m\u001b[38;5;28;01mNone\u001b[39;00m)\n\u001b[0;32m    766\u001b[0m \u001b[38;5;28;01mif\u001b[39;00m \u001b[38;5;28mself\u001b[39m\u001b[38;5;241m.\u001b[39mhue_names \u001b[38;5;129;01mis\u001b[39;00m \u001b[38;5;129;01mnot\u001b[39;00m \u001b[38;5;28;01mNone\u001b[39;00m:\n\u001b[1;32m--> 767\u001b[0m     ax\u001b[38;5;241m.\u001b[39mlegend(loc\u001b[38;5;241m=\u001b[39m\u001b[38;5;124m\"\u001b[39m\u001b[38;5;124mbest\u001b[39m\u001b[38;5;124m\"\u001b[39m, title\u001b[38;5;241m=\u001b[39m\u001b[38;5;28mself\u001b[39m\u001b[38;5;241m.\u001b[39mhue_title)\n",
      "File \u001b[1;32m~\\anaconda3\\Lib\\site-packages\\matplotlib\\axes\\_axes.py:322\u001b[0m, in \u001b[0;36mAxes.legend\u001b[1;34m(self, *args, **kwargs)\u001b[0m\n\u001b[0;32m    204\u001b[0m \u001b[38;5;129m@_docstring\u001b[39m\u001b[38;5;241m.\u001b[39mdedent_interpd\n\u001b[0;32m    205\u001b[0m \u001b[38;5;28;01mdef\u001b[39;00m \u001b[38;5;21mlegend\u001b[39m(\u001b[38;5;28mself\u001b[39m, \u001b[38;5;241m*\u001b[39margs, \u001b[38;5;241m*\u001b[39m\u001b[38;5;241m*\u001b[39mkwargs):\n\u001b[0;32m    206\u001b[0m \u001b[38;5;250m    \u001b[39m\u001b[38;5;124;03m\"\"\"\u001b[39;00m\n\u001b[0;32m    207\u001b[0m \u001b[38;5;124;03m    Place a legend on the Axes.\u001b[39;00m\n\u001b[0;32m    208\u001b[0m \n\u001b[1;32m   (...)\u001b[0m\n\u001b[0;32m    320\u001b[0m \u001b[38;5;124;03m    .. plot:: gallery/text_labels_and_annotations/legend.py\u001b[39;00m\n\u001b[0;32m    321\u001b[0m \u001b[38;5;124;03m    \"\"\"\u001b[39;00m\n\u001b[1;32m--> 322\u001b[0m     handles, labels, kwargs \u001b[38;5;241m=\u001b[39m mlegend\u001b[38;5;241m.\u001b[39m_parse_legend_args([\u001b[38;5;28mself\u001b[39m], \u001b[38;5;241m*\u001b[39margs, \u001b[38;5;241m*\u001b[39m\u001b[38;5;241m*\u001b[39mkwargs)\n\u001b[0;32m    323\u001b[0m     \u001b[38;5;28mself\u001b[39m\u001b[38;5;241m.\u001b[39mlegend_ \u001b[38;5;241m=\u001b[39m mlegend\u001b[38;5;241m.\u001b[39mLegend(\u001b[38;5;28mself\u001b[39m, handles, labels, \u001b[38;5;241m*\u001b[39m\u001b[38;5;241m*\u001b[39mkwargs)\n\u001b[0;32m    324\u001b[0m     \u001b[38;5;28mself\u001b[39m\u001b[38;5;241m.\u001b[39mlegend_\u001b[38;5;241m.\u001b[39m_remove_method \u001b[38;5;241m=\u001b[39m \u001b[38;5;28mself\u001b[39m\u001b[38;5;241m.\u001b[39m_remove_legend\n",
      "File \u001b[1;32m~\\anaconda3\\Lib\\site-packages\\matplotlib\\legend.py:1361\u001b[0m, in \u001b[0;36m_parse_legend_args\u001b[1;34m(axs, handles, labels, *args, **kwargs)\u001b[0m\n\u001b[0;32m   1357\u001b[0m     handles \u001b[38;5;241m=\u001b[39m [handle \u001b[38;5;28;01mfor\u001b[39;00m handle, label\n\u001b[0;32m   1358\u001b[0m                \u001b[38;5;129;01min\u001b[39;00m \u001b[38;5;28mzip\u001b[39m(_get_legend_handles(axs, handlers), labels)]\n\u001b[0;32m   1360\u001b[0m \u001b[38;5;28;01melif\u001b[39;00m \u001b[38;5;28mlen\u001b[39m(args) \u001b[38;5;241m==\u001b[39m \u001b[38;5;241m0\u001b[39m:  \u001b[38;5;66;03m# 0 args: automatically detect labels and handles.\u001b[39;00m\n\u001b[1;32m-> 1361\u001b[0m     handles, labels \u001b[38;5;241m=\u001b[39m _get_legend_handles_labels(axs, handlers)\n\u001b[0;32m   1362\u001b[0m     \u001b[38;5;28;01mif\u001b[39;00m \u001b[38;5;129;01mnot\u001b[39;00m handles:\n\u001b[0;32m   1363\u001b[0m         log\u001b[38;5;241m.\u001b[39mwarning(\n\u001b[0;32m   1364\u001b[0m             \u001b[38;5;124m\"\u001b[39m\u001b[38;5;124mNo artists with labels found to put in legend.  Note that \u001b[39m\u001b[38;5;124m\"\u001b[39m\n\u001b[0;32m   1365\u001b[0m             \u001b[38;5;124m\"\u001b[39m\u001b[38;5;124martists whose label start with an underscore are ignored \u001b[39m\u001b[38;5;124m\"\u001b[39m\n\u001b[0;32m   1366\u001b[0m             \u001b[38;5;124m\"\u001b[39m\u001b[38;5;124mwhen legend() is called with no argument.\u001b[39m\u001b[38;5;124m\"\u001b[39m)\n",
      "File \u001b[1;32m~\\anaconda3\\Lib\\site-packages\\matplotlib\\legend.py:1291\u001b[0m, in \u001b[0;36m_get_legend_handles_labels\u001b[1;34m(axs, legend_handler_map)\u001b[0m\n\u001b[0;32m   1289\u001b[0m \u001b[38;5;28;01mfor\u001b[39;00m handle \u001b[38;5;129;01min\u001b[39;00m _get_legend_handles(axs, legend_handler_map):\n\u001b[0;32m   1290\u001b[0m     label \u001b[38;5;241m=\u001b[39m handle\u001b[38;5;241m.\u001b[39mget_label()\n\u001b[1;32m-> 1291\u001b[0m     \u001b[38;5;28;01mif\u001b[39;00m label \u001b[38;5;129;01mand\u001b[39;00m \u001b[38;5;129;01mnot\u001b[39;00m label\u001b[38;5;241m.\u001b[39mstartswith(\u001b[38;5;124m'\u001b[39m\u001b[38;5;124m_\u001b[39m\u001b[38;5;124m'\u001b[39m):\n\u001b[0;32m   1292\u001b[0m         handles\u001b[38;5;241m.\u001b[39mappend(handle)\n\u001b[0;32m   1293\u001b[0m         labels\u001b[38;5;241m.\u001b[39mappend(label)\n",
      "\u001b[1;31mAttributeError\u001b[0m: 'numpy.int64' object has no attribute 'startswith'"
     ]
    },
    {
     "data": {
      "image/png": "[encoded data removed]",
      "text/plain": [
       "<Figure size 640x480 with 1 Axes>"
      ]
     },
     "metadata": {},
     "output_type": "display_data"
    }
   ],
   "source": [
    "key_features = ['age_group', 'education', 'race', 'income_poverty',\n",
    "                'doctor_recc_h1n1', 'opinion_h1n1_vacc_effective']\n",
    "\n",
    "for feature in key_features:\n",
    "    sns.countplot(data=data, x=feature, hue='seasonal_vaccine')\n",
    "    plt.xticks(rotation=45)\n",
    "    plt.title(f\"Seasonal Vaccine Uptake by {feature}\")\n",
    "    plt.show()\n"
   ]
  },
  {
   "cell_type": "code",
   "execution_count": 6,
   "id": "29266b48-6fa1-4f31-98e0-737103367fd7",
   "metadata": {},
   "outputs": [
    {
     "data": {
      "image/png": "[encoded data removed]",
      "text/plain": [
       "<Figure size 1200x500 with 2 Axes>"
      ]
     },
     "metadata": {},
     "output_type": "display_data"
    }
   ],
   "source": [
    "import seaborn as sns\n",
    "import matplotlib.pyplot as plt\n",
    "\n",
    "fig, axes = plt.subplots(1, 2, figsize=(12, 5))\n",
    "sns.countplot(data=data, x='h1n1_vaccine', ax=axes[0])\n",
    "axes[0].set_title('H1N1 Vaccine Uptake')\n",
    "\n",
    "sns.countplot(data=data, x='seasonal_vaccine', ax=axes[1])\n",
    "axes[1].set_title('Seasonal Vaccine Uptake')\n",
    "\n",
    "plt.tight_layout()\n",
    "plt.show()\n"
   ]
  },
  {
   "cell_type": "code",
   "execution_count": 7,
   "id": "bce1f782-e5c6-478d-9b74-c5202089c295",
   "metadata": {},
   "outputs": [
    {
     "name": "stdout",
     "output_type": "stream",
     "text": [
      "<class 'pandas.core.frame.DataFrame'>\n",
      "RangeIndex: 26707 entries, 0 to 26706\n",
      "Data columns (total 34 columns):\n",
      " #   Column                       Non-Null Count  Dtype  \n",
      "---  ------                       --------------  -----  \n",
      " 0   respondent_id                26707 non-null  int64  \n",
      " 1   h1n1_concern                 26707 non-null  float64\n",
      " 2   h1n1_knowledge               26707 non-null  float64\n",
      " 3   behavioral_antiviral_meds    26707 non-null  float64\n",
      " 4   behavioral_avoidance         26707 non-null  float64\n",
      " 5   behavioral_face_mask         26707 non-null  float64\n",
      " 6   behavioral_wash_hands        26707 non-null  float64\n",
      " 7   behavioral_large_gatherings  26707 non-null  float64\n",
      " 8   behavioral_outside_home      26707 non-null  float64\n",
      " 9   behavioral_touch_face        26707 non-null  float64\n",
      " 10  doctor_recc_h1n1             26707 non-null  float64\n",
      " 11  doctor_recc_seasonal         26707 non-null  float64\n",
      " 12  chronic_med_condition        26707 non-null  float64\n",
      " 13  child_under_6_months         26707 non-null  float64\n",
      " 14  health_worker                26707 non-null  float64\n",
      " 15  health_insurance             26707 non-null  object \n",
      " 16  opinion_h1n1_vacc_effective  26707 non-null  float64\n",
      " 17  opinion_h1n1_risk            26707 non-null  float64\n",
      " 18  opinion_h1n1_sick_from_vacc  26707 non-null  float64\n",
      " 19  opinion_seas_vacc_effective  26707 non-null  float64\n",
      " 20  opinion_seas_risk            26707 non-null  float64\n",
      " 21  opinion_seas_sick_from_vacc  26707 non-null  float64\n",
      " 22  age_group                    26707 non-null  object \n",
      " 23  education                    26707 non-null  object \n",
      " 24  race                         26707 non-null  object \n",
      " 25  sex                          26707 non-null  object \n",
      " 26  income_poverty               26707 non-null  object \n",
      " 27  marital_status               26707 non-null  object \n",
      " 28  rent_or_own                  26707 non-null  object \n",
      " 29  employment_status            26707 non-null  object \n",
      " 30  household_adults             26707 non-null  float64\n",
      " 31  household_children           26707 non-null  float64\n",
      " 32  h1n1_vaccine                 26707 non-null  int64  \n",
      " 33  seasonal_vaccine             26707 non-null  int64  \n",
      "dtypes: float64(22), int64(3), object(9)\n",
      "memory usage: 6.9+ MB\n"
     ]
    }
   ],
   "source": [
    "data.info()"
   ]
  },
  {
   "cell_type": "code",
   "execution_count": 8,
   "id": "9b1fabe4-cd57-437f-bc9d-5b10e49f67f8",
   "metadata": {},
   "outputs": [],
   "source": [
    "#FEATURE ENGINEERING\n",
    "\n",
    "# Combine household features\n",
    "data['household_size'] = data['household_adults'] + data['household_children']\n",
    "\n",
    "#Combine doctor recommendation column\n",
    "data['doctor_recc_both'] = data['doctor_recc_h1n1'] + data['doctor_recc_seasonal']\n",
    "\n",
    "\n",
    "#Combine multiple related behavioral flags to create an overall \"cautious behavior\" indicator.\n",
    "safe_behaviors = [\n",
    "    'behavioral_avoidance',\n",
    "    'behavioral_face_mask',\n",
    "    'behavioral_wash_hands',\n",
    "    'behavioral_large_gatherings',\n",
    "    'behavioral_outside_home',\n",
    "    'behavioral_touch_face'\n",
    "]\n",
    "data['safe_behavior_score'] = data[safe_behaviors].sum(axis=1)\n",
    "\n",
    "# Map to numerical: 1.0 = Yes, 0.0 = No, NA = Unknown\n",
    "data['health_insurance'] = data['health_insurance'].map({1.0: 1, 0.0: 0})\n",
    "data['health_insurance'] = data['health_insurance'].fillna(-1)  # -1 = Unknown\n",
    "\n",
    "#Eductaion column\n",
    "edu_order = {\n",
    "    '< 12 Years': 0,\n",
    "    '12 Years': 1,\n",
    "    'Some College': 2,\n",
    "    'College Graduate': 3\n",
    "}\n",
    "data['education'] = data['education'].map(edu_order)\n",
    "\n",
    "#Income column\n",
    "inc_order = {\n",
    "    'Below Poverty': 0,\n",
    "    '<= $75,000, Above Poverty': 1,\n",
    "    '> $75,000': 2\n",
    "}\n",
    "data['income_poverty'] = data['income_poverty'].map(inc_order)\n",
    "\n",
    "#Age group column\n",
    "age_order = {\n",
    "    '18 - 34 Years': 0,\n",
    "    '35 - 44 Years': 1,\n",
    "    '45 - 54 Years': 2,\n",
    "    '55 - 64 Years': 3,\n",
    "    '65+ Years': 4\n",
    "}\n",
    "data['age_group'] = data['age_group'].map(age_order)\n",
    "\n",
    "\n",
    "#One-Hot Encode Nominal Categories\n",
    "data = pd.get_dummies(data, columns=[\n",
    "    'race', 'sex', 'marital_status',\n",
    "    'rent_or_own', 'employment_status'\n",
    "], drop_first=True)  # Drop first to avoid multicollinearity\n",
    "\n",
    "\n",
    "#Drop unnecessary columns\n",
    "data.drop(columns=['household_adults', 'household_children', \"doctor_recc_h1n1\", \"doctor_recc_seasonal\"] + safe_behaviors, inplace=True)\n"
   ]
  },
  {
   "cell_type": "code",
   "execution_count": 9,
   "id": "e9c9756e-8018-40e4-8042-ed440d5679f3",
   "metadata": {},
   "outputs": [
    {
     "name": "stdout",
     "output_type": "stream",
     "text": [
      "<class 'pandas.core.frame.DataFrame'>\n",
      "RangeIndex: 26707 entries, 0 to 26706\n",
      "Data columns (total 30 columns):\n",
      " #   Column                                Non-Null Count  Dtype  \n",
      "---  ------                                --------------  -----  \n",
      " 0   respondent_id                         26707 non-null  int64  \n",
      " 1   h1n1_concern                          26707 non-null  float64\n",
      " 2   h1n1_knowledge                        26707 non-null  float64\n",
      " 3   behavioral_antiviral_meds             26707 non-null  float64\n",
      " 4   chronic_med_condition                 26707 non-null  float64\n",
      " 5   child_under_6_months                  26707 non-null  float64\n",
      " 6   health_worker                         26707 non-null  float64\n",
      " 7   health_insurance                      26707 non-null  float64\n",
      " 8   opinion_h1n1_vacc_effective           26707 non-null  float64\n",
      " 9   opinion_h1n1_risk                     26707 non-null  float64\n",
      " 10  opinion_h1n1_sick_from_vacc           26707 non-null  float64\n",
      " 11  opinion_seas_vacc_effective           26707 non-null  float64\n",
      " 12  opinion_seas_risk                     26707 non-null  float64\n",
      " 13  opinion_seas_sick_from_vacc           26707 non-null  float64\n",
      " 14  age_group                             26707 non-null  int64  \n",
      " 15  education                             26707 non-null  int64  \n",
      " 16  income_poverty                        26707 non-null  int64  \n",
      " 17  h1n1_vaccine                          26707 non-null  int64  \n",
      " 18  seasonal_vaccine                      26707 non-null  int64  \n",
      " 19  household_size                        26707 non-null  float64\n",
      " 20  doctor_recc_both                      26707 non-null  float64\n",
      " 21  safe_behavior_score                   26707 non-null  float64\n",
      " 22  race_Hispanic                         26707 non-null  bool   \n",
      " 23  race_Other or Multiple                26707 non-null  bool   \n",
      " 24  race_White                            26707 non-null  bool   \n",
      " 25  sex_Male                              26707 non-null  bool   \n",
      " 26  marital_status_Not Married            26707 non-null  bool   \n",
      " 27  rent_or_own_Rent                      26707 non-null  bool   \n",
      " 28  employment_status_Not in Labor Force  26707 non-null  bool   \n",
      " 29  employment_status_Unemployed          26707 non-null  bool   \n",
      "dtypes: bool(8), float64(16), int64(6)\n",
      "memory usage: 4.7 MB\n"
     ]
    }
   ],
   "source": [
    "data.info()"
   ]
  },
  {
   "cell_type": "code",
   "execution_count": 10,
   "id": "0210c87d-55d1-4881-9be7-d4702a4bd4ea",
   "metadata": {},
   "outputs": [
    {
     "name": "stdout",
     "output_type": "stream",
     "text": [
      "seasonal_vaccine                        0.377143\n",
      "doctor_recc_both                        0.335635\n",
      "opinion_h1n1_risk                       0.320580\n",
      "opinion_h1n1_vacc_effective             0.267352\n",
      "opinion_seas_risk                       0.255874\n",
      "health_insurance                        0.242393\n",
      "opinion_seas_vacc_effective             0.177799\n",
      "health_worker                           0.168056\n",
      "h1n1_concern                            0.121574\n",
      "h1n1_knowledge                          0.117771\n",
      "chronic_med_condition                   0.094360\n",
      "safe_behavior_score                     0.076697\n",
      "opinion_h1n1_sick_from_vacc             0.074580\n",
      "child_under_6_months                    0.066712\n",
      "education                               0.061739\n",
      "income_poverty                          0.052911\n",
      "age_group                               0.041074\n",
      "behavioral_antiviral_meds               0.040226\n",
      "race_White                              0.030887\n",
      "employment_status_Not in Labor Force    0.013065\n",
      "opinion_seas_sick_from_vacc             0.008415\n",
      "race_Other or Multiple                  0.002508\n",
      "household_size                          0.002405\n",
      "race_Hispanic                          -0.002902\n",
      "respondent_id                          -0.003280\n",
      "sex_Male                               -0.020672\n",
      "employment_status_Unemployed           -0.028935\n",
      "rent_or_own_Rent                       -0.030977\n",
      "marital_status_Not Married             -0.045194\n",
      "Name: h1n1_vaccine, dtype: float64\n"
     ]
    }
   ],
   "source": [
    "corr_h1n1 = data.corr()['h1n1_vaccine'].drop('h1n1_vaccine')\n",
    "corr_h1n1_sorted = corr_h1n1.sort_values(ascending=False)\n",
    "print(corr_h1n1_sorted)\n"
   ]
  },
  {
   "cell_type": "code",
   "execution_count": 11,
   "id": "70cdd3ef-5b20-46e3-827a-d9df3404b58b",
   "metadata": {},
   "outputs": [
    {
     "name": "stdout",
     "output_type": "stream",
     "text": [
      "opinion_seas_risk                       0.386916\n",
      "h1n1_vaccine                            0.377143\n",
      "opinion_seas_vacc_effective             0.358869\n",
      "doctor_recc_both                        0.318217\n",
      "age_group                               0.277454\n",
      "opinion_h1n1_risk                       0.215650\n",
      "opinion_h1n1_vacc_effective             0.203187\n",
      "chronic_med_condition                   0.169465\n",
      "h1n1_concern                            0.154488\n",
      "employment_status_Not in Labor Force    0.145819\n",
      "safe_behavior_score                     0.129281\n",
      "health_worker                           0.126977\n",
      "h1n1_knowledge                          0.119779\n",
      "health_insurance                        0.110874\n",
      "race_White                              0.100314\n",
      "income_poverty                          0.063805\n",
      "education                               0.056681\n",
      "opinion_h1n1_sick_from_vacc             0.027964\n",
      "child_under_6_months                    0.013424\n",
      "behavioral_antiviral_meds               0.006013\n",
      "respondent_id                          -0.004652\n",
      "race_Other or Multiple                 -0.023186\n",
      "marital_status_Not Married             -0.042360\n",
      "opinion_seas_sick_from_vacc            -0.060538\n",
      "race_Hispanic                          -0.066995\n",
      "sex_Male                               -0.077091\n",
      "employment_status_Unemployed           -0.078610\n",
      "rent_or_own_Rent                       -0.101796\n",
      "household_size                         -0.117408\n",
      "Name: seasonal_vaccine, dtype: float64\n"
     ]
    }
   ],
   "source": [
    "corr_s1 = data.corr()['seasonal_vaccine'].drop('seasonal_vaccine')\n",
    "corr_s1_sorted = corr_s1.sort_values(ascending=False)\n",
    "print(corr_s1_sorted)\n"
   ]
  },
  {
   "cell_type": "markdown",
   "id": "96623559-c841-4dd6-aea1-15a4a7916165",
   "metadata": {},
   "source": [
    "## Building a preprocessing pipeline\n"
   ]
  },
  {
   "cell_type": "markdown",
   "id": "f31e5cea-8bea-4ecf-85b7-a2b95a4a9b08",
   "metadata": {},
   "source": [
    "## Defining feature types."
   ]
  },
  {
   "cell_type": "code",
   "execution_count": 12,
   "id": "c9b0c818-f62e-45fe-bdcc-d3555a9e78c1",
   "metadata": {},
   "outputs": [],
   "source": [
    "# Drop identifier and target columns\n",
    "features = data.drop(columns=[\"respondent_id\", \"h1n1_vaccine\", \"seasonal_vaccine\"])\n",
    "\n",
    "# Define numerical, ordinal, and nominal features\n",
    "numerical_features = ['household_income', 'household_size', 'safe_behavior_score']\n",
    "ordinal_features = ['age_group', 'education', 'income_poverty', 'employment_status', 'health_insurance', 'doctor_recc_h1n1', 'doctor_recc_seasonal', 'opinion_h1n1_vacc_effective', 'opinion_h1n1_risk', 'opinion_h1n1_sick_from_vacc']  # example list — adjust based on your encoding\n",
    "nominal_features = [col for col in features.columns if col not in numerical_features + ordinal_features]\n"
   ]
  },
  {
   "cell_type": "code",
   "execution_count": 14,
   "id": "f1dbff60-56e8-4d23-91fd-4302c8e126a2",
   "metadata": {},
   "outputs": [],
   "source": [
    "from sklearn.pipeline import Pipeline\n",
    "from sklearn.compose import ColumnTransformer\n",
    "from sklearn.preprocessing import OneHotEncoder, OrdinalEncoder, StandardScaler\n",
    "from sklearn.impute import SimpleImputer\n"
   ]
  },
  {
   "cell_type": "markdown",
   "id": "69b398a3-77ed-4207-971b-80ec97dd63e6",
   "metadata": {},
   "source": [
    "### Creating preprocessing steps"
   ]
  },
  {
   "cell_type": "code",
   "execution_count": 15,
   "id": "eb4dfc95-83e1-43fa-b445-ce18f8bdb821",
   "metadata": {},
   "outputs": [],
   "source": [
    "# Numeric pipeline: median imputation + scaling\n",
    "numeric_transformer = Pipeline(steps=[\n",
    "    ('imputer', SimpleImputer(strategy='median')),\n",
    "    ('scaler', StandardScaler())\n",
    "])\n",
    "\n",
    "# Ordinal pipeline: impute then ordinal encode\n",
    "ordinal_transformer = Pipeline(steps=[\n",
    "    ('imputer', SimpleImputer(strategy='most_frequent')),\n",
    "    ('ordinal', OrdinalEncoder())\n",
    "])\n",
    "\n",
    "# Nominal pipeline: impute then one-hot encode\n",
    "nominal_transformer = Pipeline(steps=[\n",
    "    ('imputer', SimpleImputer(strategy='most_frequent')),\n",
    "    ('onehot', OneHotEncoder(handle_unknown='ignore', sparse=False))\n",
    "])\n"
   ]
  },
  {
   "cell_type": "markdown",
   "id": "ea01a930-c2e7-4cc9-8dcd-7b92267740f4",
   "metadata": {},
   "source": [
    " ### Combine into a ColumnTransformer"
   ]
  },
  {
   "cell_type": "code",
   "execution_count": 16,
   "id": "022041a2-8cc0-43ea-9e0f-4d0ad2c850e8",
   "metadata": {},
   "outputs": [],
   "source": [
    "preprocessor = ColumnTransformer(\n",
    "    transformers=[\n",
    "        ('num', numeric_transformer, numerical_features),\n",
    "        ('ord', ordinal_transformer, ordinal_features),\n",
    "        ('nom', nominal_transformer, nominal_features)\n",
    "    ])\n"
   ]
  },
  {
   "cell_type": "code",
   "execution_count": 18,
   "id": "ac47e9b3-e29c-4163-bf0c-387a0b2937b7",
   "metadata": {},
   "outputs": [],
   "source": [
    "from sklearn.linear_model import LogisticRegression\n",
    "from sklearn.pipeline import Pipeline\n",
    "\n",
    "# Define full pipeline with preprocessing and logistic regression\n",
    "clf = Pipeline(steps=[\n",
    "    ('preprocessor', preprocessor),\n",
    "    ('classifier', LogisticRegression(max_iter=1000))\n",
    "])\n"
   ]
  },
  {
   "cell_type": "markdown",
   "id": "bf54c689-1bd0-4856-8787-a3c76a623fd3",
   "metadata": {},
   "source": [
    "### Identify Irrelevant Features\n",
    "\n"
   ]
  },
  {
   "cell_type": "code",
   "execution_count": 20,
   "id": "81fa9b4c-06ef-4b8b-bbe6-bcaed13d5cae",
   "metadata": {},
   "outputs": [
    {
     "name": "stdout",
     "output_type": "stream",
     "text": [
      "Series([], dtype: float64)\n"
     ]
    }
   ],
   "source": [
    "# Percentage of missing values per column\n",
    "missing_percent = data.isnull().mean().sort_values(ascending=False)\n",
    "print(missing_percent[missing_percent > 0.4])  # show those with > 40% missing\n"
   ]
  },
  {
   "cell_type": "code",
   "execution_count": 21,
   "id": "ea9eed17-a62b-495f-b8af-555b49dbd0ea",
   "metadata": {},
   "outputs": [
    {
     "name": "stdout",
     "output_type": "stream",
     "text": [
      "Low-variance columns: []\n"
     ]
    }
   ],
   "source": [
    "low_variance_cols = [col for col in data.columns if data[col].nunique() <= 1]\n",
    "print(\"Low-variance columns:\", low_variance_cols)\n"
   ]
  },
  {
   "cell_type": "markdown",
   "id": "6849635b-d77f-45b4-bec3-b283b458aa6b",
   "metadata": {},
   "source": [
    "No low-variance columns were found."
   ]
  },
  {
   "cell_type": "markdown",
   "id": "d81585a0-b311-4176-8e6a-44bcbf7c68b6",
   "metadata": {},
   "source": [
    "Common irrelevant features in this vaccine dataset might include:\n",
    "\n",
    "respondent_id: just an identifier"
   ]
  },
  {
   "cell_type": "code",
   "execution_count": 23,
   "id": "88a1d424-6c76-4c43-9df1-e774ecfa5f04",
   "metadata": {},
   "outputs": [
    {
     "name": "stdout",
     "output_type": "stream",
     "text": [
      "Cleaned dataset saved as 'cleaned_vaccine_data.csv'\n"
     ]
    }
   ],
   "source": [
    "# Drop respondent_id\n",
    "data_cleaned = data.drop(columns=['respondent_id'])\n",
    "\n",
    "# Save to CSV\n",
    "data_cleaned.to_csv(\"cleaned_vaccine_data.csv\", index=False)\n",
    "print(\"Cleaned dataset saved as 'cleaned_vaccine_data.csv'\")\n"
   ]
  },
  {
   "cell_type": "code",
   "execution_count": null,
   "id": "bf72cb9c-c88e-4f02-b229-4cb52b44688e",
   "metadata": {},
   "outputs": [],
   "source": []
  }
 ],
 "metadata": {
  "kernelspec": {
   "display_name": "Python 3 (ipykernel)",
   "language": "python",
   "name": "python3"
  },
  "language_info": {
   "codemirror_mode": {
    "name": "ipython",
    "version": 3
   },
   "file_extension": ".py",
   "mimetype": "text/x-python",
   "name": "python",
   "nbconvert_exporter": "python",
   "pygments_lexer": "ipython3",
   "version": "3.11.7"
  }
 },
 "nbformat": 4,
 "nbformat_minor": 5
}
